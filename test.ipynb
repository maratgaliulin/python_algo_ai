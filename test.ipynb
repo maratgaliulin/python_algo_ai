{
 "cells": [
  {
   "cell_type": "code",
   "execution_count": 1,
   "metadata": {},
   "outputs": [],
   "source": [
    "import pandas as pd\n",
    "from methods.make_single_df_test import make_single_df_from_bid_test\n",
    "from methods.make_5min_volume_from_1_min_volume import make_5min_volume_from_1min_volume"
   ]
  },
  {
   "cell_type": "code",
   "execution_count": 2,
   "metadata": {},
   "outputs": [],
   "source": [
    "# pd.set_option('display.float_format', '{:.0f}'.format)"
   ]
  },
  {
   "cell_type": "code",
   "execution_count": 3,
   "metadata": {},
   "outputs": [],
   "source": [
    "# pd.reset_option('display.float_format')"
   ]
  },
  {
   "cell_type": "code",
   "execution_count": 4,
   "metadata": {},
   "outputs": [
    {
     "name": "stdout",
     "output_type": "stream",
     "text": [
      "                            open    close     high      low  volume\n",
      "Gmt time                                                           \n",
      "01.01.2004 00:00:00.000  1.25934  1.25953  1.25960  1.25930   951.0\n",
      "01.01.2004 00:01:00.000  1.25953  1.25904  1.25953  1.25901  1481.5\n",
      "01.01.2004 00:02:00.000  1.25907  1.25886  1.25910  1.25881  1120.2\n",
      "01.01.2004 00:03:00.000  1.25901  1.25886  1.25901  1.25886     0.0\n",
      "01.01.2004 00:04:00.000  1.25901  1.25886  1.25901  1.25886     0.0\n"
     ]
    }
   ],
   "source": [
    "pd.set_option('display.max_columns', None)\n",
    "pd.set_option('display.max_rows', None)\n",
    "\n",
    "\n",
    "\n",
    "base_dir = \"hist_data/EURUSD/1_min/\"\n",
    "\n",
    "dir_bid = base_dir + \"Bid/EURUSD_Candlestick_1_m_BID_01.01.2004-01.01.2007.csv\"\n",
    "dir_ask = base_dir + \"Ask/EURUSD_Candlestick_1_M_ASK_01.01.2004-01.01.2007.csv\"\n",
    "\n",
    "\n",
    "df_5min_bid = pd.read_csv(dir_bid, index_col=\"Gmt time\").sort_index(ascending=True)\n",
    "df_5min_ask = pd.read_csv(dir_ask, index_col=\"Gmt time\").sort_index(ascending=True)\n",
    "\n",
    "df_joined = make_single_df_from_bid_test(df_bid=df_5min_bid, df_ask=df_5min_ask)\n",
    "\n",
    "print(df_joined.head())"
   ]
  },
  {
   "cell_type": "code",
   "execution_count": 5,
   "metadata": {},
   "outputs": [],
   "source": [
    "df_joined = make_5min_volume_from_1min_volume(df_joined=df_joined)"
   ]
  },
  {
   "cell_type": "code",
   "execution_count": 6,
   "metadata": {},
   "outputs": [
    {
     "data": {
      "text/html": [
       "<div>\n",
       "<style scoped>\n",
       "    .dataframe tbody tr th:only-of-type {\n",
       "        vertical-align: middle;\n",
       "    }\n",
       "\n",
       "    .dataframe tbody tr th {\n",
       "        vertical-align: top;\n",
       "    }\n",
       "\n",
       "    .dataframe thead th {\n",
       "        text-align: right;\n",
       "    }\n",
       "</style>\n",
       "<table border=\"1\" class=\"dataframe\">\n",
       "  <thead>\n",
       "    <tr style=\"text-align: right;\">\n",
       "      <th>minute_columns</th>\n",
       "      <th>1st_minute_volume</th>\n",
       "      <th>2nd_minute_volume</th>\n",
       "      <th>3rd_minute_volume</th>\n",
       "      <th>4th_minute_volume</th>\n",
       "      <th>5th_minute_volume</th>\n",
       "    </tr>\n",
       "    <tr>\n",
       "      <th>timestamp_5min</th>\n",
       "      <th></th>\n",
       "      <th></th>\n",
       "      <th></th>\n",
       "      <th></th>\n",
       "      <th></th>\n",
       "    </tr>\n",
       "  </thead>\n",
       "  <tbody>\n",
       "    <tr>\n",
       "      <th>2004-01-01 00:05:00</th>\n",
       "      <td>951.0</td>\n",
       "      <td>1481.5</td>\n",
       "      <td>1120.2</td>\n",
       "      <td>0.0</td>\n",
       "      <td>0.0</td>\n",
       "    </tr>\n",
       "    <tr>\n",
       "      <th>2004-01-01 00:10:00</th>\n",
       "      <td>1205.5</td>\n",
       "      <td>398.4</td>\n",
       "      <td>0.0</td>\n",
       "      <td>0.0</td>\n",
       "      <td>0.0</td>\n",
       "    </tr>\n",
       "    <tr>\n",
       "      <th>2004-01-01 00:15:00</th>\n",
       "      <td>0.0</td>\n",
       "      <td>0.0</td>\n",
       "      <td>841.3</td>\n",
       "      <td>886.4</td>\n",
       "      <td>0.0</td>\n",
       "    </tr>\n",
       "    <tr>\n",
       "      <th>2004-01-01 00:20:00</th>\n",
       "      <td>654.6</td>\n",
       "      <td>510.0</td>\n",
       "      <td>1349.6</td>\n",
       "      <td>1237.7</td>\n",
       "      <td>0.0</td>\n",
       "    </tr>\n",
       "    <tr>\n",
       "      <th>2004-01-01 00:25:00</th>\n",
       "      <td>0.0</td>\n",
       "      <td>0.0</td>\n",
       "      <td>0.0</td>\n",
       "      <td>0.0</td>\n",
       "      <td>0.0</td>\n",
       "    </tr>\n",
       "  </tbody>\n",
       "</table>\n",
       "</div>"
      ],
      "text/plain": [
       "minute_columns       1st_minute_volume  2nd_minute_volume  3rd_minute_volume  \\\n",
       "timestamp_5min                                                                 \n",
       "2004-01-01 00:05:00              951.0             1481.5             1120.2   \n",
       "2004-01-01 00:10:00             1205.5              398.4                0.0   \n",
       "2004-01-01 00:15:00                0.0                0.0              841.3   \n",
       "2004-01-01 00:20:00              654.6              510.0             1349.6   \n",
       "2004-01-01 00:25:00                0.0                0.0                0.0   \n",
       "\n",
       "minute_columns       4th_minute_volume  5th_minute_volume  \n",
       "timestamp_5min                                             \n",
       "2004-01-01 00:05:00                0.0                0.0  \n",
       "2004-01-01 00:10:00                0.0                0.0  \n",
       "2004-01-01 00:15:00              886.4                0.0  \n",
       "2004-01-01 00:20:00             1237.7                0.0  \n",
       "2004-01-01 00:25:00                0.0                0.0  "
      ]
     },
     "execution_count": 6,
     "metadata": {},
     "output_type": "execute_result"
    }
   ],
   "source": [
    "df_joined.head()"
   ]
  }
 ],
 "metadata": {
  "kernelspec": {
   "display_name": "myenv",
   "language": "python",
   "name": "python3"
  },
  "language_info": {
   "codemirror_mode": {
    "name": "ipython",
    "version": 3
   },
   "file_extension": ".py",
   "mimetype": "text/x-python",
   "name": "python",
   "nbconvert_exporter": "python",
   "pygments_lexer": "ipython3",
   "version": "3.13.2"
  }
 },
 "nbformat": 4,
 "nbformat_minor": 2
}

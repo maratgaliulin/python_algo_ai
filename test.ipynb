{
 "cells": [
  {
   "cell_type": "code",
   "execution_count": 1,
   "metadata": {},
   "outputs": [],
   "source": [
    "import pandas as pd\n",
    "from methods.make_single_df_from_bid_ask import make_single_df_from_bid_ask\n",
    "# from methods.make_5min_volume_from_1_min_volume import make_5min_volume_from_1min_volume\n",
    "from machine_learning_models.lstm.eurusd.lstm_predict_candle import predict_candle\n",
    "# from machine_learning_models.lstm.eurusd.lstm_use_prediction import use_prediction\n",
    "from machine_learning_models.lstm.lstm_collect_predictions_into_dataframe import collect_predictions_into_dataframe\n",
    "# import torch"
   ]
  },
  {
   "cell_type": "code",
   "execution_count": 2,
   "metadata": {},
   "outputs": [],
   "source": [
    "# Display all rows\n",
    "pd.set_option('display.max_rows', None)\n",
    "\n",
    "# Display all columns\n",
    "pd.set_option('display.max_columns', None)\n",
    "\n",
    "# Prevent column width truncation\n",
    "pd.set_option('display.max_colwidth', None)\n",
    "\n",
    "# Display full content without wrapping\n",
    "pd.set_option('display.expand_frame_repr', False)"
   ]
  },
  {
   "cell_type": "code",
   "execution_count": 3,
   "metadata": {},
   "outputs": [],
   "source": [
    "BASE_DIR = 'hist_data/'\n",
    "TIME_SERIES_FOLDER = 'EURUSD/'\n",
    "BID_FOLDER = '5_min/Bid/'\n",
    "ASK_FOLDER = '5_min/Ask/'\n",
    "\n",
    "BASE_DIR_LSTM = 'machine_learning_models/lstm/eurusd/pickle_files'\n",
    "LSTM_MAX_VAL = BASE_DIR_LSTM + '/lstm_regressor_predict_max_values-2025-04-07.pkl'\n",
    "LSTM_MIN_VAL = BASE_DIR_LSTM + '/lstm_regressor_predict_min_values-2025-04-07.pkl'\n",
    "SCALER_X_MIN = BASE_DIR_LSTM + '/lstm_regressor_scaler_x_min.pkl'\n",
    "SCALER_X_MAX = BASE_DIR_LSTM + '/lstm_regressor_scaler_x_max.pkl'\n",
    "SCALER_Y_MIN = BASE_DIR_LSTM + '/lstm_regressor_scaler_y_min.pkl'\n",
    "SCALER_Y_MAX = BASE_DIR_LSTM + '/lstm_regressor_scaler_y_max.pkl'"
   ]
  },
  {
   "cell_type": "code",
   "execution_count": 4,
   "metadata": {},
   "outputs": [],
   "source": [
    "df_joined_train, df_joined_test, df_joined_val = make_single_df_from_bid_ask(\n",
    "    base_dir=BASE_DIR,\n",
    "    time_series_folder=TIME_SERIES_FOLDER\n",
    ")"
   ]
  },
  {
   "cell_type": "code",
   "execution_count": 5,
   "metadata": {},
   "outputs": [
    {
     "name": "stdout",
     "output_type": "stream",
     "text": [
      "13845 4615 4616\n"
     ]
    }
   ],
   "source": [
    "print(len(df_joined_train), len(df_joined_test), len(df_joined_val))"
   ]
  },
  {
   "cell_type": "code",
   "execution_count": 6,
   "metadata": {},
   "outputs": [],
   "source": [
    "columns_for_y = [\n",
    "        \"open_plus_5min\",\n",
    "        \"high_plus_5min\",\n",
    "        \"low_plus_5min\",\n",
    "        \"close_plus_5min\",\n",
    "        \"open_plus_10min\",    \n",
    "        \"high_plus_10min\",\n",
    "        \"low_plus_10min\",\n",
    "        \"close_plus_10min\",\n",
    "        \"open_plus_15min\",\n",
    "        \"high_plus_15min\",\n",
    "        \"low_plus_15min\",\n",
    "        \"close_plus_15min\",\n",
    "        \"open_plus_20min\",\n",
    "        \"high_plus_20min\",\n",
    "        \"low_plus_20min\",\n",
    "        \"close_plus_20min\",\n",
    "        \"open_plus_25min\",\n",
    "        \"high_plus_25min\",\n",
    "        \"low_plus_25min\",\n",
    "        \"close_plus_25min\",\n",
    "        \"open_plus_30min\",\n",
    "        \"high_plus_30min\",\n",
    "        \"low_plus_30min\",\n",
    "        \"close_plus_30min\",\n",
    "        \"open_plus_35min\",\n",
    "        \"high_plus_35min\",\n",
    "        \"low_plus_35min\",\n",
    "        \"close_plus_35min\",\n",
    "        \"open_plus_40min\",\n",
    "        \"high_plus_40min\",\n",
    "        \"low_plus_40min\",\n",
    "        \"close_plus_40min\"\n",
    "    ]"
   ]
  },
  {
   "cell_type": "code",
   "execution_count": null,
   "metadata": {},
   "outputs": [],
   "source": [
    "for col in columns_for_y:\n",
    "    predict_candle(df=df_joined_train, test_df=df_joined_test, validation_df=df_joined_val, base_dir=BASE_DIR_LSTM, column_for_y=col)"
   ]
  },
  {
   "cell_type": "code",
   "execution_count": null,
   "metadata": {},
   "outputs": [],
   "source": [
    "dataframe_actual = df_joined_val.tail(8)"
   ]
  },
  {
   "cell_type": "code",
   "execution_count": null,
   "metadata": {},
   "outputs": [],
   "source": [
    "len(df_joined_val)"
   ]
  },
  {
   "cell_type": "code",
   "execution_count": null,
   "metadata": {},
   "outputs": [],
   "source": [
    "dataframe_line = df_joined_val.iloc[4547:4608]"
   ]
  },
  {
   "cell_type": "code",
   "execution_count": null,
   "metadata": {},
   "outputs": [],
   "source": [
    "len(dataframe_line)"
   ]
  },
  {
   "cell_type": "code",
   "execution_count": null,
   "metadata": {},
   "outputs": [],
   "source": [
    "dataframe_predicted = collect_predictions_into_dataframe(dataframe_line=dataframe_line, base_dir_lstm=BASE_DIR_LSTM)"
   ]
  },
  {
   "cell_type": "code",
   "execution_count": null,
   "metadata": {},
   "outputs": [],
   "source": [
    "dataframe_actual[['open', 'high', 'low', 'close']]"
   ]
  },
  {
   "cell_type": "code",
   "execution_count": null,
   "metadata": {},
   "outputs": [],
   "source": [
    "dataframe_predicted"
   ]
  },
  {
   "cell_type": "code",
   "execution_count": null,
   "metadata": {},
   "outputs": [],
   "source": [
    "# predict_min_stats(df_joined_train, df_joined_test, df_joined_val, scaler_x_dir=SCALER_X_MIN, scaler_y_dir=SCALER_Y_MIN, model_dir=LSTM_MIN_VAL)"
   ]
  },
  {
   "cell_type": "code",
   "execution_count": null,
   "metadata": {},
   "outputs": [],
   "source": [
    "# predict_max_stats(df_joined_train, df_joined_test, df_joined_val, scaler_x_dir=SCALER_X_MAX, scaler_y_dir=SCALER_Y_MAX, model_dir=LSTM_MAX_VAL)"
   ]
  }
 ],
 "metadata": {
  "kernelspec": {
   "display_name": "myenv",
   "language": "python",
   "name": "python3"
  },
  "language_info": {
   "codemirror_mode": {
    "name": "ipython",
    "version": 3
   },
   "file_extension": ".py",
   "mimetype": "text/x-python",
   "name": "python",
   "nbconvert_exporter": "python",
   "pygments_lexer": "ipython3",
   "version": "3.13.2"
  }
 },
 "nbformat": 4,
 "nbformat_minor": 2
}

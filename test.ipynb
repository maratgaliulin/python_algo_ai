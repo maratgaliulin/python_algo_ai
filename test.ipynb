{
 "cells": [
  {
   "cell_type": "code",
   "execution_count": 1,
   "metadata": {},
   "outputs": [],
   "source": [
    "import pandas as pd\n",
    "import MetaTrader5 as mt\n",
    "from methods.make_single_df_from_bid_ask import make_single_df_from_bid_ask\n",
    "from methods.make_dataframe_line import make_dataframe_line\n",
    "# from methods.make_5min_volume_from_1_min_volume import make_5min_volume_from_1min_volume\n",
    "from machine_learning_models.lstm.eurusd.lstm_predict_candle import predict_candle\n",
    "# from machine_learning_models.lstm.eurusd.lstm_use_prediction import use_prediction\n",
    "from machine_learning_models.lstm.lstm_collect_predictions_into_dataframe import collect_predictions_into_dataframe\n",
    "# import torch"
   ]
  },
  {
   "cell_type": "code",
   "execution_count": 2,
   "metadata": {},
   "outputs": [],
   "source": [
    "if not mt.initialize():\n",
    "    print(\"initialize() failed, error code =\", mt.last_error())\n",
    "    quit()\n",
    "\n",
    "account=52234337\n",
    "pw='b&89zG&!PruWtP'\n",
    "\n",
    "authorized = mt.login(account, pw)"
   ]
  },
  {
   "cell_type": "code",
   "execution_count": 3,
   "metadata": {},
   "outputs": [],
   "source": [
    "# Display all rows\n",
    "pd.set_option('display.max_rows', None)\n",
    "\n",
    "# Display all columns\n",
    "pd.set_option('display.max_columns', None)\n",
    "\n",
    "# Prevent column width truncation\n",
    "pd.set_option('display.max_colwidth', None)\n",
    "\n",
    "# Display full content without wrapping\n",
    "pd.set_option('display.expand_frame_repr', False)"
   ]
  },
  {
   "cell_type": "code",
   "execution_count": 4,
   "metadata": {},
   "outputs": [],
   "source": [
    "TIMEFRAME_SMALL_MT = mt.TIMEFRAME_M5"
   ]
  },
  {
   "cell_type": "code",
   "execution_count": 25,
   "metadata": {},
   "outputs": [],
   "source": [
    "df_from_server = make_dataframe_line(timeframe=TIMEFRAME_SMALL_MT, start_pos=0, end_pos=92)"
   ]
  },
  {
   "cell_type": "code",
   "execution_count": 26,
   "metadata": {},
   "outputs": [
    {
     "data": {
      "text/plain": [
       "61"
      ]
     },
     "execution_count": 26,
     "metadata": {},
     "output_type": "execute_result"
    }
   ],
   "source": [
    "len(df_from_server)"
   ]
  },
  {
   "cell_type": "code",
   "execution_count": 27,
   "metadata": {},
   "outputs": [],
   "source": [
    "BASE_DIR = 'hist_data/'\n",
    "TIME_SERIES_FOLDER = 'EURUSD/'\n",
    "BID_FOLDER = '5_min/Bid/'\n",
    "ASK_FOLDER = '5_min/Ask/'\n",
    "\n",
    "BASE_DIR_LSTM = 'machine_learning_models/lstm/eurusd/pickle_files'\n",
    "LSTM_MAX_VAL = BASE_DIR_LSTM + '/lstm_regressor_predict_max_values-2025-04-07.pkl'\n",
    "LSTM_MIN_VAL = BASE_DIR_LSTM + '/lstm_regressor_predict_min_values-2025-04-07.pkl'\n",
    "SCALER_X_MIN = BASE_DIR_LSTM + '/lstm_regressor_scaler_x_min.pkl'\n",
    "SCALER_X_MAX = BASE_DIR_LSTM + '/lstm_regressor_scaler_x_max.pkl'\n",
    "SCALER_Y_MIN = BASE_DIR_LSTM + '/lstm_regressor_scaler_y_min.pkl'\n",
    "SCALER_Y_MAX = BASE_DIR_LSTM + '/lstm_regressor_scaler_y_max.pkl'"
   ]
  },
  {
   "cell_type": "code",
   "execution_count": 28,
   "metadata": {},
   "outputs": [
    {
     "data": {
      "text/plain": [
       "61"
      ]
     },
     "execution_count": 28,
     "metadata": {},
     "output_type": "execute_result"
    }
   ],
   "source": [
    "len(df_from_server)"
   ]
  },
  {
   "cell_type": "code",
   "execution_count": 29,
   "metadata": {},
   "outputs": [],
   "source": [
    "df_joined_train, df_joined_test, df_joined_val = make_single_df_from_bid_ask(\n",
    "    base_dir=BASE_DIR,\n",
    "    time_series_folder=TIME_SERIES_FOLDER\n",
    ")"
   ]
  },
  {
   "cell_type": "code",
   "execution_count": 30,
   "metadata": {},
   "outputs": [
    {
     "name": "stdout",
     "output_type": "stream",
     "text": [
      "13845 4615 4616\n"
     ]
    }
   ],
   "source": [
    "print(len(df_joined_train), len(df_joined_test), len(df_joined_val))"
   ]
  },
  {
   "cell_type": "code",
   "execution_count": 31,
   "metadata": {},
   "outputs": [],
   "source": [
    "columns_for_y = [\n",
    "        \"open_plus_5min\",\n",
    "        \"high_plus_5min\",\n",
    "        \"low_plus_5min\",\n",
    "        \"close_plus_5min\",\n",
    "        \"open_plus_10min\",    \n",
    "        \"high_plus_10min\",\n",
    "        \"low_plus_10min\",\n",
    "        \"close_plus_10min\",\n",
    "        \"open_plus_15min\",\n",
    "        \"high_plus_15min\",\n",
    "        \"low_plus_15min\",\n",
    "        \"close_plus_15min\",\n",
    "        \"open_plus_20min\",\n",
    "        \"high_plus_20min\",\n",
    "        \"low_plus_20min\",\n",
    "        \"close_plus_20min\",\n",
    "        \"open_plus_25min\",\n",
    "        \"high_plus_25min\",\n",
    "        \"low_plus_25min\",\n",
    "        \"close_plus_25min\",\n",
    "        \"open_plus_30min\",\n",
    "        \"high_plus_30min\",\n",
    "        \"low_plus_30min\",\n",
    "        \"close_plus_30min\",\n",
    "        \"open_plus_35min\",\n",
    "        \"high_plus_35min\",\n",
    "        \"low_plus_35min\",\n",
    "        \"close_plus_35min\",\n",
    "        \"open_plus_40min\",\n",
    "        \"high_plus_40min\",\n",
    "        \"low_plus_40min\",\n",
    "        \"close_plus_40min\"\n",
    "    ]"
   ]
  },
  {
   "cell_type": "code",
   "execution_count": null,
   "metadata": {},
   "outputs": [],
   "source": [
    "for col in columns_for_y:\n",
    "    predict_candle(df=df_joined_train, test_df=df_joined_test, validation_df=df_joined_val, base_dir=BASE_DIR_LSTM, column_for_y=col)"
   ]
  },
  {
   "cell_type": "code",
   "execution_count": 33,
   "metadata": {},
   "outputs": [],
   "source": [
    "dataframe_actual = df_joined_val.tail(8)"
   ]
  },
  {
   "cell_type": "code",
   "execution_count": 34,
   "metadata": {},
   "outputs": [
    {
     "data": {
      "text/plain": [
       "4616"
      ]
     },
     "execution_count": 34,
     "metadata": {},
     "output_type": "execute_result"
    }
   ],
   "source": [
    "len(df_joined_val)"
   ]
  },
  {
   "cell_type": "code",
   "execution_count": 35,
   "metadata": {},
   "outputs": [],
   "source": [
    "dataframe_line = df_joined_val.iloc[4547:4608]"
   ]
  },
  {
   "cell_type": "code",
   "execution_count": 36,
   "metadata": {},
   "outputs": [
    {
     "data": {
      "text/plain": [
       "61"
      ]
     },
     "execution_count": 36,
     "metadata": {},
     "output_type": "execute_result"
    }
   ],
   "source": [
    "len(dataframe_line)"
   ]
  },
  {
   "cell_type": "code",
   "execution_count": 37,
   "metadata": {},
   "outputs": [
    {
     "name": "stderr",
     "output_type": "stream",
     "text": [
      "e:\\1.WORKING-FOLDER\\Свой-бизнес\\Приложение_для_торговли_на_форекс_и_фондовом_рынке\\python_algo_ai\\machine_learning_models\\lstm\\lstm_collect_predictions_into_dataframe.py:71: FutureWarning: The behavior of array concatenation with empty entries is deprecated. In a future version, this will no longer exclude empty items when determining the result dtype. To retain the old behavior, exclude the empty entries before the concat operation.\n",
      "  open_values = pd.concat([open_values, pd.Series([predicted_value])], ignore_index=True)\n",
      "e:\\1.WORKING-FOLDER\\Свой-бизнес\\Приложение_для_торговли_на_форекс_и_фондовом_рынке\\python_algo_ai\\machine_learning_models\\lstm\\lstm_collect_predictions_into_dataframe.py:73: FutureWarning: The behavior of array concatenation with empty entries is deprecated. In a future version, this will no longer exclude empty items when determining the result dtype. To retain the old behavior, exclude the empty entries before the concat operation.\n",
      "  high_values = pd.concat([high_values, pd.Series([predicted_value])], ignore_index=True)\n",
      "e:\\1.WORKING-FOLDER\\Свой-бизнес\\Приложение_для_торговли_на_форекс_и_фондовом_рынке\\python_algo_ai\\machine_learning_models\\lstm\\lstm_collect_predictions_into_dataframe.py:75: FutureWarning: The behavior of array concatenation with empty entries is deprecated. In a future version, this will no longer exclude empty items when determining the result dtype. To retain the old behavior, exclude the empty entries before the concat operation.\n",
      "  low_values = pd.concat([low_values, pd.Series([predicted_value])], ignore_index=True)\n",
      "e:\\1.WORKING-FOLDER\\Свой-бизнес\\Приложение_для_торговли_на_форекс_и_фондовом_рынке\\python_algo_ai\\machine_learning_models\\lstm\\lstm_collect_predictions_into_dataframe.py:77: FutureWarning: The behavior of array concatenation with empty entries is deprecated. In a future version, this will no longer exclude empty items when determining the result dtype. To retain the old behavior, exclude the empty entries before the concat operation.\n",
      "  close_values = pd.concat([close_values, pd.Series([predicted_value])], ignore_index=True)\n"
     ]
    }
   ],
   "source": [
    "dataframe_predicted = collect_predictions_into_dataframe(dataframe_line=dataframe_line, base_dir_lstm=BASE_DIR_LSTM)"
   ]
  },
  {
   "cell_type": "code",
   "execution_count": 38,
   "metadata": {},
   "outputs": [
    {
     "name": "stderr",
     "output_type": "stream",
     "text": [
      "e:\\1.WORKING-FOLDER\\Свой-бизнес\\Приложение_для_торговли_на_форекс_и_фондовом_рынке\\python_algo_ai\\machine_learning_models\\lstm\\lstm_collect_predictions_into_dataframe.py:71: FutureWarning: The behavior of array concatenation with empty entries is deprecated. In a future version, this will no longer exclude empty items when determining the result dtype. To retain the old behavior, exclude the empty entries before the concat operation.\n",
      "  open_values = pd.concat([open_values, pd.Series([predicted_value])], ignore_index=True)\n",
      "e:\\1.WORKING-FOLDER\\Свой-бизнес\\Приложение_для_торговли_на_форекс_и_фондовом_рынке\\python_algo_ai\\machine_learning_models\\lstm\\lstm_collect_predictions_into_dataframe.py:73: FutureWarning: The behavior of array concatenation with empty entries is deprecated. In a future version, this will no longer exclude empty items when determining the result dtype. To retain the old behavior, exclude the empty entries before the concat operation.\n",
      "  high_values = pd.concat([high_values, pd.Series([predicted_value])], ignore_index=True)\n",
      "e:\\1.WORKING-FOLDER\\Свой-бизнес\\Приложение_для_торговли_на_форекс_и_фондовом_рынке\\python_algo_ai\\machine_learning_models\\lstm\\lstm_collect_predictions_into_dataframe.py:75: FutureWarning: The behavior of array concatenation with empty entries is deprecated. In a future version, this will no longer exclude empty items when determining the result dtype. To retain the old behavior, exclude the empty entries before the concat operation.\n",
      "  low_values = pd.concat([low_values, pd.Series([predicted_value])], ignore_index=True)\n",
      "e:\\1.WORKING-FOLDER\\Свой-бизнес\\Приложение_для_торговли_на_форекс_и_фондовом_рынке\\python_algo_ai\\machine_learning_models\\lstm\\lstm_collect_predictions_into_dataframe.py:77: FutureWarning: The behavior of array concatenation with empty entries is deprecated. In a future version, this will no longer exclude empty items when determining the result dtype. To retain the old behavior, exclude the empty entries before the concat operation.\n",
      "  close_values = pd.concat([close_values, pd.Series([predicted_value])], ignore_index=True)\n"
     ]
    }
   ],
   "source": [
    "dataframe_predicted_from_server = collect_predictions_into_dataframe(dataframe_line=df_from_server, base_dir_lstm=BASE_DIR_LSTM)"
   ]
  },
  {
   "cell_type": "code",
   "execution_count": 39,
   "metadata": {},
   "outputs": [
    {
     "data": {
      "text/html": [
       "<div>\n",
       "<style scoped>\n",
       "    .dataframe tbody tr th:only-of-type {\n",
       "        vertical-align: middle;\n",
       "    }\n",
       "\n",
       "    .dataframe tbody tr th {\n",
       "        vertical-align: top;\n",
       "    }\n",
       "\n",
       "    .dataframe thead th {\n",
       "        text-align: right;\n",
       "    }\n",
       "</style>\n",
       "<table border=\"1\" class=\"dataframe\">\n",
       "  <thead>\n",
       "    <tr style=\"text-align: right;\">\n",
       "      <th></th>\n",
       "      <th>open</th>\n",
       "      <th>high</th>\n",
       "      <th>low</th>\n",
       "      <th>close</th>\n",
       "    </tr>\n",
       "  </thead>\n",
       "  <tbody>\n",
       "    <tr>\n",
       "      <th>2025-05-19 07:30:00</th>\n",
       "      <td>1.075377</td>\n",
       "      <td>1.076814</td>\n",
       "      <td>1.080789</td>\n",
       "      <td>1.076232</td>\n",
       "    </tr>\n",
       "    <tr>\n",
       "      <th>2025-05-19 07:35:00</th>\n",
       "      <td>1.075250</td>\n",
       "      <td>1.077784</td>\n",
       "      <td>1.071479</td>\n",
       "      <td>1.072611</td>\n",
       "    </tr>\n",
       "    <tr>\n",
       "      <th>2025-05-19 07:40:00</th>\n",
       "      <td>1.073302</td>\n",
       "      <td>1.071467</td>\n",
       "      <td>1.071329</td>\n",
       "      <td>1.071070</td>\n",
       "    </tr>\n",
       "    <tr>\n",
       "      <th>2025-05-19 07:45:00</th>\n",
       "      <td>1.072654</td>\n",
       "      <td>1.072949</td>\n",
       "      <td>1.074550</td>\n",
       "      <td>1.073447</td>\n",
       "    </tr>\n",
       "    <tr>\n",
       "      <th>2025-05-19 07:50:00</th>\n",
       "      <td>1.077282</td>\n",
       "      <td>1.071073</td>\n",
       "      <td>1.072696</td>\n",
       "      <td>1.072657</td>\n",
       "    </tr>\n",
       "    <tr>\n",
       "      <th>2025-05-19 07:55:00</th>\n",
       "      <td>1.072933</td>\n",
       "      <td>1.073526</td>\n",
       "      <td>1.074306</td>\n",
       "      <td>1.072943</td>\n",
       "    </tr>\n",
       "    <tr>\n",
       "      <th>2025-05-19 08:00:00</th>\n",
       "      <td>1.073411</td>\n",
       "      <td>1.072964</td>\n",
       "      <td>1.074182</td>\n",
       "      <td>1.068992</td>\n",
       "    </tr>\n",
       "    <tr>\n",
       "      <th>2025-05-19 08:05:00</th>\n",
       "      <td>1.076073</td>\n",
       "      <td>1.077262</td>\n",
       "      <td>1.071470</td>\n",
       "      <td>1.079861</td>\n",
       "    </tr>\n",
       "  </tbody>\n",
       "</table>\n",
       "</div>"
      ],
      "text/plain": [
       "                         open      high       low     close\n",
       "2025-05-19 07:30:00  1.075377  1.076814  1.080789  1.076232\n",
       "2025-05-19 07:35:00  1.075250  1.077784  1.071479  1.072611\n",
       "2025-05-19 07:40:00  1.073302  1.071467  1.071329  1.071070\n",
       "2025-05-19 07:45:00  1.072654  1.072949  1.074550  1.073447\n",
       "2025-05-19 07:50:00  1.077282  1.071073  1.072696  1.072657\n",
       "2025-05-19 07:55:00  1.072933  1.073526  1.074306  1.072943\n",
       "2025-05-19 08:00:00  1.073411  1.072964  1.074182  1.068992\n",
       "2025-05-19 08:05:00  1.076073  1.077262  1.071470  1.079861"
      ]
     },
     "execution_count": 39,
     "metadata": {},
     "output_type": "execute_result"
    }
   ],
   "source": [
    "dataframe_predicted_from_server"
   ]
  },
  {
   "cell_type": "code",
   "execution_count": 48,
   "metadata": {},
   "outputs": [],
   "source": [
    "df_test = dataframe_actual[['open', 'high', 'low', 'close']].copy()"
   ]
  },
  {
   "cell_type": "code",
   "execution_count": 49,
   "metadata": {},
   "outputs": [],
   "source": [
    "df_test.index = dataframe_predicted.index.to_list()"
   ]
  },
  {
   "cell_type": "code",
   "execution_count": 50,
   "metadata": {},
   "outputs": [
    {
     "data": {
      "text/html": [
       "<div>\n",
       "<style scoped>\n",
       "    .dataframe tbody tr th:only-of-type {\n",
       "        vertical-align: middle;\n",
       "    }\n",
       "\n",
       "    .dataframe tbody tr th {\n",
       "        vertical-align: top;\n",
       "    }\n",
       "\n",
       "    .dataframe thead th {\n",
       "        text-align: right;\n",
       "    }\n",
       "</style>\n",
       "<table border=\"1\" class=\"dataframe\">\n",
       "  <thead>\n",
       "    <tr style=\"text-align: right;\">\n",
       "      <th></th>\n",
       "      <th>open</th>\n",
       "      <th>high</th>\n",
       "      <th>low</th>\n",
       "      <th>close</th>\n",
       "    </tr>\n",
       "  </thead>\n",
       "  <tbody>\n",
       "    <tr>\n",
       "      <th>2025-04-24 20:40:00</th>\n",
       "      <td>1.13949</td>\n",
       "      <td>1.13968</td>\n",
       "      <td>1.13943</td>\n",
       "      <td>1.13965</td>\n",
       "    </tr>\n",
       "    <tr>\n",
       "      <th>2025-04-24 20:45:00</th>\n",
       "      <td>1.13957</td>\n",
       "      <td>1.13983</td>\n",
       "      <td>1.13956</td>\n",
       "      <td>1.13982</td>\n",
       "    </tr>\n",
       "    <tr>\n",
       "      <th>2025-04-24 20:50:00</th>\n",
       "      <td>1.13982</td>\n",
       "      <td>1.13982</td>\n",
       "      <td>1.13932</td>\n",
       "      <td>1.13936</td>\n",
       "    </tr>\n",
       "    <tr>\n",
       "      <th>2025-04-24 20:55:00</th>\n",
       "      <td>1.13943</td>\n",
       "      <td>1.13944</td>\n",
       "      <td>1.13853</td>\n",
       "      <td>1.13854</td>\n",
       "    </tr>\n",
       "    <tr>\n",
       "      <th>2025-04-24 21:00:00</th>\n",
       "      <td>1.13484</td>\n",
       "      <td>1.13520</td>\n",
       "      <td>1.13484</td>\n",
       "      <td>1.13503</td>\n",
       "    </tr>\n",
       "    <tr>\n",
       "      <th>2025-04-24 21:05:00</th>\n",
       "      <td>1.13502</td>\n",
       "      <td>1.13507</td>\n",
       "      <td>1.13492</td>\n",
       "      <td>1.13502</td>\n",
       "    </tr>\n",
       "    <tr>\n",
       "      <th>2025-04-24 21:10:00</th>\n",
       "      <td>1.13501</td>\n",
       "      <td>1.13519</td>\n",
       "      <td>1.13484</td>\n",
       "      <td>1.13492</td>\n",
       "    </tr>\n",
       "    <tr>\n",
       "      <th>2025-04-24 21:15:00</th>\n",
       "      <td>1.13490</td>\n",
       "      <td>1.13520</td>\n",
       "      <td>1.13482</td>\n",
       "      <td>1.13510</td>\n",
       "    </tr>\n",
       "  </tbody>\n",
       "</table>\n",
       "</div>"
      ],
      "text/plain": [
       "                        open     high      low    close\n",
       "2025-04-24 20:40:00  1.13949  1.13968  1.13943  1.13965\n",
       "2025-04-24 20:45:00  1.13957  1.13983  1.13956  1.13982\n",
       "2025-04-24 20:50:00  1.13982  1.13982  1.13932  1.13936\n",
       "2025-04-24 20:55:00  1.13943  1.13944  1.13853  1.13854\n",
       "2025-04-24 21:00:00  1.13484  1.13520  1.13484  1.13503\n",
       "2025-04-24 21:05:00  1.13502  1.13507  1.13492  1.13502\n",
       "2025-04-24 21:10:00  1.13501  1.13519  1.13484  1.13492\n",
       "2025-04-24 21:15:00  1.13490  1.13520  1.13482  1.13510"
      ]
     },
     "execution_count": 50,
     "metadata": {},
     "output_type": "execute_result"
    }
   ],
   "source": [
    "df_test"
   ]
  },
  {
   "cell_type": "code",
   "execution_count": 41,
   "metadata": {},
   "outputs": [
    {
     "data": {
      "text/html": [
       "<div>\n",
       "<style scoped>\n",
       "    .dataframe tbody tr th:only-of-type {\n",
       "        vertical-align: middle;\n",
       "    }\n",
       "\n",
       "    .dataframe tbody tr th {\n",
       "        vertical-align: top;\n",
       "    }\n",
       "\n",
       "    .dataframe thead th {\n",
       "        text-align: right;\n",
       "    }\n",
       "</style>\n",
       "<table border=\"1\" class=\"dataframe\">\n",
       "  <thead>\n",
       "    <tr style=\"text-align: right;\">\n",
       "      <th></th>\n",
       "      <th>open</th>\n",
       "      <th>high</th>\n",
       "      <th>low</th>\n",
       "      <th>close</th>\n",
       "    </tr>\n",
       "  </thead>\n",
       "  <tbody>\n",
       "    <tr>\n",
       "      <th>2025-04-24 20:40:00</th>\n",
       "      <td>1.093758</td>\n",
       "      <td>1.096595</td>\n",
       "      <td>1.096088</td>\n",
       "      <td>1.097692</td>\n",
       "    </tr>\n",
       "    <tr>\n",
       "      <th>2025-04-24 20:45:00</th>\n",
       "      <td>1.095082</td>\n",
       "      <td>1.095534</td>\n",
       "      <td>1.095887</td>\n",
       "      <td>1.096157</td>\n",
       "    </tr>\n",
       "    <tr>\n",
       "      <th>2025-04-24 20:50:00</th>\n",
       "      <td>1.096390</td>\n",
       "      <td>1.097448</td>\n",
       "      <td>1.094147</td>\n",
       "      <td>1.096993</td>\n",
       "    </tr>\n",
       "    <tr>\n",
       "      <th>2025-04-24 20:55:00</th>\n",
       "      <td>1.096752</td>\n",
       "      <td>1.094848</td>\n",
       "      <td>1.097177</td>\n",
       "      <td>1.095333</td>\n",
       "    </tr>\n",
       "    <tr>\n",
       "      <th>2025-04-24 21:00:00</th>\n",
       "      <td>1.094807</td>\n",
       "      <td>1.095214</td>\n",
       "      <td>1.097806</td>\n",
       "      <td>1.093498</td>\n",
       "    </tr>\n",
       "    <tr>\n",
       "      <th>2025-04-24 21:05:00</th>\n",
       "      <td>1.096133</td>\n",
       "      <td>1.094785</td>\n",
       "      <td>1.098798</td>\n",
       "      <td>1.093403</td>\n",
       "    </tr>\n",
       "    <tr>\n",
       "      <th>2025-04-24 21:10:00</th>\n",
       "      <td>1.093172</td>\n",
       "      <td>1.094659</td>\n",
       "      <td>1.093562</td>\n",
       "      <td>1.095735</td>\n",
       "    </tr>\n",
       "    <tr>\n",
       "      <th>2025-04-24 21:15:00</th>\n",
       "      <td>1.096783</td>\n",
       "      <td>1.094513</td>\n",
       "      <td>1.096123</td>\n",
       "      <td>1.093028</td>\n",
       "    </tr>\n",
       "  </tbody>\n",
       "</table>\n",
       "</div>"
      ],
      "text/plain": [
       "                         open      high       low     close\n",
       "2025-04-24 20:40:00  1.093758  1.096595  1.096088  1.097692\n",
       "2025-04-24 20:45:00  1.095082  1.095534  1.095887  1.096157\n",
       "2025-04-24 20:50:00  1.096390  1.097448  1.094147  1.096993\n",
       "2025-04-24 20:55:00  1.096752  1.094848  1.097177  1.095333\n",
       "2025-04-24 21:00:00  1.094807  1.095214  1.097806  1.093498\n",
       "2025-04-24 21:05:00  1.096133  1.094785  1.098798  1.093403\n",
       "2025-04-24 21:10:00  1.093172  1.094659  1.093562  1.095735\n",
       "2025-04-24 21:15:00  1.096783  1.094513  1.096123  1.093028"
      ]
     },
     "execution_count": 41,
     "metadata": {},
     "output_type": "execute_result"
    }
   ],
   "source": [
    "dataframe_predicted"
   ]
  },
  {
   "cell_type": "code",
   "execution_count": 52,
   "metadata": {},
   "outputs": [],
   "source": [
    "df_result = df_test.subtract(dataframe_predicted, axis=1)"
   ]
  },
  {
   "cell_type": "code",
   "execution_count": 53,
   "metadata": {},
   "outputs": [
    {
     "data": {
      "text/plain": [
       "open     0.041900\n",
       "high     0.041979\n",
       "low      0.040834\n",
       "close    0.041950\n",
       "dtype: float64"
      ]
     },
     "execution_count": 53,
     "metadata": {},
     "output_type": "execute_result"
    }
   ],
   "source": [
    "df_result.mean()"
   ]
  },
  {
   "cell_type": "code",
   "execution_count": 54,
   "metadata": {},
   "outputs": [
    {
     "data": {
      "text/html": [
       "<div>\n",
       "<style scoped>\n",
       "    .dataframe tbody tr th:only-of-type {\n",
       "        vertical-align: middle;\n",
       "    }\n",
       "\n",
       "    .dataframe tbody tr th {\n",
       "        vertical-align: top;\n",
       "    }\n",
       "\n",
       "    .dataframe thead th {\n",
       "        text-align: right;\n",
       "    }\n",
       "</style>\n",
       "<table border=\"1\" class=\"dataframe\">\n",
       "  <thead>\n",
       "    <tr style=\"text-align: right;\">\n",
       "      <th></th>\n",
       "      <th>open</th>\n",
       "      <th>high</th>\n",
       "      <th>low</th>\n",
       "      <th>close</th>\n",
       "    </tr>\n",
       "  </thead>\n",
       "  <tbody>\n",
       "    <tr>\n",
       "      <th>2025-04-24 20:40:00</th>\n",
       "      <td>1.134758</td>\n",
       "      <td>1.137595</td>\n",
       "      <td>1.137088</td>\n",
       "      <td>1.138692</td>\n",
       "    </tr>\n",
       "    <tr>\n",
       "      <th>2025-04-24 20:45:00</th>\n",
       "      <td>1.136082</td>\n",
       "      <td>1.136534</td>\n",
       "      <td>1.136887</td>\n",
       "      <td>1.137157</td>\n",
       "    </tr>\n",
       "    <tr>\n",
       "      <th>2025-04-24 20:50:00</th>\n",
       "      <td>1.137390</td>\n",
       "      <td>1.138448</td>\n",
       "      <td>1.135147</td>\n",
       "      <td>1.137993</td>\n",
       "    </tr>\n",
       "    <tr>\n",
       "      <th>2025-04-24 20:55:00</th>\n",
       "      <td>1.137752</td>\n",
       "      <td>1.135848</td>\n",
       "      <td>1.138177</td>\n",
       "      <td>1.136333</td>\n",
       "    </tr>\n",
       "    <tr>\n",
       "      <th>2025-04-24 21:00:00</th>\n",
       "      <td>1.135807</td>\n",
       "      <td>1.136214</td>\n",
       "      <td>1.138806</td>\n",
       "      <td>1.134498</td>\n",
       "    </tr>\n",
       "    <tr>\n",
       "      <th>2025-04-24 21:05:00</th>\n",
       "      <td>1.137133</td>\n",
       "      <td>1.135785</td>\n",
       "      <td>1.139798</td>\n",
       "      <td>1.134403</td>\n",
       "    </tr>\n",
       "    <tr>\n",
       "      <th>2025-04-24 21:10:00</th>\n",
       "      <td>1.134172</td>\n",
       "      <td>1.135659</td>\n",
       "      <td>1.134562</td>\n",
       "      <td>1.136735</td>\n",
       "    </tr>\n",
       "    <tr>\n",
       "      <th>2025-04-24 21:15:00</th>\n",
       "      <td>1.137783</td>\n",
       "      <td>1.135513</td>\n",
       "      <td>1.137123</td>\n",
       "      <td>1.134028</td>\n",
       "    </tr>\n",
       "  </tbody>\n",
       "</table>\n",
       "</div>"
      ],
      "text/plain": [
       "                         open      high       low     close\n",
       "2025-04-24 20:40:00  1.134758  1.137595  1.137088  1.138692\n",
       "2025-04-24 20:45:00  1.136082  1.136534  1.136887  1.137157\n",
       "2025-04-24 20:50:00  1.137390  1.138448  1.135147  1.137993\n",
       "2025-04-24 20:55:00  1.137752  1.135848  1.138177  1.136333\n",
       "2025-04-24 21:00:00  1.135807  1.136214  1.138806  1.134498\n",
       "2025-04-24 21:05:00  1.137133  1.135785  1.139798  1.134403\n",
       "2025-04-24 21:10:00  1.134172  1.135659  1.134562  1.136735\n",
       "2025-04-24 21:15:00  1.137783  1.135513  1.137123  1.134028"
      ]
     },
     "execution_count": 54,
     "metadata": {},
     "output_type": "execute_result"
    }
   ],
   "source": [
    "dataframe_predicted.add(0.041)"
   ]
  },
  {
   "cell_type": "code",
   "execution_count": 42,
   "metadata": {},
   "outputs": [],
   "source": [
    "# predict_min_stats(df_joined_train, df_joined_test, df_joined_val, scaler_x_dir=SCALER_X_MIN, scaler_y_dir=SCALER_Y_MIN, model_dir=LSTM_MIN_VAL)"
   ]
  },
  {
   "cell_type": "code",
   "execution_count": 43,
   "metadata": {},
   "outputs": [],
   "source": [
    "# predict_max_stats(df_joined_train, df_joined_test, df_joined_val, scaler_x_dir=SCALER_X_MAX, scaler_y_dir=SCALER_Y_MAX, model_dir=LSTM_MAX_VAL)"
   ]
  }
 ],
 "metadata": {
  "kernelspec": {
   "display_name": "myenv",
   "language": "python",
   "name": "python3"
  },
  "language_info": {
   "codemirror_mode": {
    "name": "ipython",
    "version": 3
   },
   "file_extension": ".py",
   "mimetype": "text/x-python",
   "name": "python",
   "nbconvert_exporter": "python",
   "pygments_lexer": "ipython3",
   "version": "3.12.9"
  }
 },
 "nbformat": 4,
 "nbformat_minor": 2
}

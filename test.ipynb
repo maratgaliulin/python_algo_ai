{
 "cells": [
  {
   "cell_type": "code",
   "execution_count": 1,
   "metadata": {},
   "outputs": [],
   "source": [
    "import pandas as pd\n",
    "from methods.make_single_df_from_bid_ask import make_single_df_from_bid_ask\n",
    "from methods.make_5min_volume_from_1_min_volume import make_5min_volume_from_1min_volume\n",
    "from machine_learning_models.lstm.eurusd.lstm_model_stats import predict_max_stats, predict_min_stats\n",
    "import torch"
   ]
  },
  {
   "cell_type": "code",
   "execution_count": 2,
   "metadata": {},
   "outputs": [],
   "source": [
    "BASE_DIR = 'hist_data/'\n",
    "TIME_SERIES_FOLDER = 'EURUSD/'\n",
    "BID_FOLDER = '5_min/Bid/'\n",
    "ASK_FOLDER = '5_min/Ask/'\n",
    "\n",
    "BASE_DIR_LSTM = 'machine_learning_models/lstm/eurusd/pickle_files'\n",
    "LSTM_MAX_VAL = BASE_DIR_LSTM + '/lstm_regressor_predict_max_values-2025-04-07.pkl'\n",
    "LSTM_MIN_VAL = BASE_DIR_LSTM + '/lstm_regressor_predict_min_values-2025-04-07.pkl'\n",
    "SCALER_X_MIN = BASE_DIR_LSTM + '/lstm_regressor_scaler_x_min.pkl'\n",
    "SCALER_X_MAX = BASE_DIR_LSTM + '/lstm_regressor_scaler_x_max.pkl'\n",
    "SCALER_Y_MIN = BASE_DIR_LSTM + '/lstm_regressor_scaler_y_min.pkl'\n",
    "SCALER_Y_MAX = BASE_DIR_LSTM + '/lstm_regressor_scaler_y_max.pkl'"
   ]
  },
  {
   "cell_type": "code",
   "execution_count": 3,
   "metadata": {},
   "outputs": [],
   "source": [
    "df_joined_train, df_joined_test, df_joined_val = make_single_df_from_bid_ask(\n",
    "    base_dir=BASE_DIR,\n",
    "    time_series_folder=TIME_SERIES_FOLDER,\n",
    "    bid_or_ask_folder_bid=BID_FOLDER,\n",
    "    bid_or_ask_folder_ask=ASK_FOLDER\n",
    ")"
   ]
  },
  {
   "cell_type": "code",
   "execution_count": 7,
   "metadata": {},
   "outputs": [
    {
     "name": "stdout",
     "output_type": "stream",
     "text": [
      "99715 49858 49858\n"
     ]
    }
   ],
   "source": [
    "print(len(df_joined_train), len(df_joined_test), len(df_joined_val))"
   ]
  },
  {
   "cell_type": "code",
   "execution_count": 5,
   "metadata": {},
   "outputs": [
    {
     "name": "stdout",
     "output_type": "stream",
     "text": [
      "Deleting raw dataframes\n",
      "Raw dataframes deleted\n",
      "*******************************\n",
      "After training on test sample:\n",
      "*******************************\n",
      "Epoch 10/10 | Train Loss: 0.006891 | Test Loss: 0.004631 | Validation loss: 0.007190\n",
      "\n",
      "Final Train RMSE: 0.01 | Test RMSE: 0.01 | Validation RMSE: 0.01\n"
     ]
    }
   ],
   "source": [
    "predict_min_stats(df_joined_train, df_joined_test, df_joined_val, scaler_x_dir=SCALER_X_MIN, scaler_y_dir=SCALER_Y_MIN, model_dir=LSTM_MIN_VAL)"
   ]
  },
  {
   "cell_type": "code",
   "execution_count": 6,
   "metadata": {},
   "outputs": [
    {
     "name": "stdout",
     "output_type": "stream",
     "text": [
      "Deleting raw dataframes\n",
      "Raw dataframes deleted\n",
      "*******************************\n",
      "After training on test sample:\n",
      "*******************************\n",
      "Epoch 10/10 | Train Loss: 0.016275 | Test Loss: 0.006827 | Validation loss: 0.014268\n",
      "\n",
      "Final Train RMSE: 0.01 | Test RMSE: 0.01 | Validation RMSE: 0.01\n"
     ]
    }
   ],
   "source": [
    "predict_max_stats(df_joined_train, df_joined_test, df_joined_val, scaler_x_dir=SCALER_X_MAX, scaler_y_dir=SCALER_Y_MAX, model_dir=LSTM_MAX_VAL)"
   ]
  }
 ],
 "metadata": {
  "kernelspec": {
   "display_name": "myenv",
   "language": "python",
   "name": "python3"
  },
  "language_info": {
   "codemirror_mode": {
    "name": "ipython",
    "version": 3
   },
   "file_extension": ".py",
   "mimetype": "text/x-python",
   "name": "python",
   "nbconvert_exporter": "python",
   "pygments_lexer": "ipython3",
   "version": "3.13.2"
  }
 },
 "nbformat": 4,
 "nbformat_minor": 2
}

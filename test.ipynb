{
 "cells": [
  {
   "cell_type": "code",
   "execution_count": 1,
   "metadata": {},
   "outputs": [],
   "source": [
    "import pandas as pd\n",
    "import MetaTrader5 as mt\n",
    "from sklearn.pipeline import Pipeline\n",
    "from sklearn.preprocessing import FunctionTransformer\n",
    "from tsfresh.feature_extraction import EfficientFCParameters\n",
    "from tsfresh import extract_features, select_features\n",
    "from tsfresh.utilities.dataframe_functions import impute\n",
    "import joblib\n",
    "\n",
    "from methods.make_single_df_from_bid_ask import make_single_df_from_bid_ask\n",
    "from methods.make_dataframe_line import make_dataframe_line\n",
    "# from methods.make_5min_volume_from_1_min_volume import make_5min_volume_from_1min_volume\n",
    "from machine_learning_models.lstm.eurusd.lstm_predict_candle import predict_candle\n",
    "# from machine_learning_models.lstm.eurusd.lstm_use_prediction import use_prediction\n",
    "from machine_learning_models.lstm.lstm_collect_predictions_into_dataframe import collect_predictions_into_dataframe\n",
    "from methods.make_dataframe_from_server_for_training import make_dataframe_from_server_for_training\n",
    "# import torch\n",
    "\n",
    "import matplotlib.pyplot as plt\n",
    "\n",
    "import seaborn as sns"
   ]
  },
  {
   "cell_type": "code",
   "execution_count": 2,
   "metadata": {},
   "outputs": [],
   "source": [
    "COLUMNS_ORDER = [\n",
    "        \"open\",\n",
    "        \"high\",\n",
    "        \"low\",\n",
    "        \"close\",\n",
    "        \"volume\",\n",
    "        \"ADX\",\n",
    "        \"ADL\",\n",
    "        \"ATR_14\",\n",
    "        \"RSI\",\n",
    "        \"MACD\",\n",
    "        \"MACD_signal\",\n",
    "        \"MACD_hist\",\n",
    "        \"open_audusd\",\n",
    "        \"high_audusd\",\n",
    "        \"low_audusd\",\n",
    "        \"close_audusd\",\n",
    "        \"volume_audusd\",\n",
    "        \"open_brentusd\",\n",
    "        \"high_brentusd\",\n",
    "        \"low_brentusd\",\n",
    "        \"close_brentusd\",\n",
    "        \"volume_brentusd\",\n",
    "        \"open_cadusd\",\n",
    "        \"high_cadusd\",\n",
    "        \"low_cadusd\",\n",
    "        \"close_cadusd\",\n",
    "        \"volume_cadusd\",\n",
    "        \"open_jpyusd\",\n",
    "        \"high_jpyusd\",\n",
    "        \"low_jpyusd\",\n",
    "        \"close_jpyusd\",\n",
    "        \"volume_jpyusd\"\n",
    "    ]"
   ]
  },
  {
   "cell_type": "code",
   "execution_count": 3,
   "metadata": {},
   "outputs": [],
   "source": [
    "columns_for_y = [\n",
    "        \"open_plus_5min\",\n",
    "        \"high_plus_5min\",\n",
    "        \"low_plus_5min\",\n",
    "        \"close_plus_5min\",\n",
    "        \"open_plus_10min\",    \n",
    "        \"high_plus_10min\",\n",
    "        \"low_plus_10min\",\n",
    "        \"close_plus_10min\",\n",
    "        \"open_plus_15min\",\n",
    "        \"high_plus_15min\",\n",
    "        \"low_plus_15min\",\n",
    "        \"close_plus_15min\",\n",
    "        \"open_plus_20min\",\n",
    "        \"high_plus_20min\",\n",
    "        \"low_plus_20min\",\n",
    "        \"close_plus_20min\",\n",
    "        \"open_plus_25min\",\n",
    "        \"high_plus_25min\",\n",
    "        \"low_plus_25min\",\n",
    "        \"close_plus_25min\",\n",
    "        \"open_plus_30min\",\n",
    "        \"high_plus_30min\",\n",
    "        \"low_plus_30min\",\n",
    "        \"close_plus_30min\",\n",
    "        \"open_plus_35min\",\n",
    "        \"high_plus_35min\",\n",
    "        \"low_plus_35min\",\n",
    "        \"close_plus_35min\",\n",
    "        \"open_plus_40min\",\n",
    "        \"high_plus_40min\",\n",
    "        \"low_plus_40min\",\n",
    "        \"close_plus_40min\"\n",
    "        ]"
   ]
  },
  {
   "cell_type": "code",
   "execution_count": 4,
   "metadata": {},
   "outputs": [],
   "source": [
    "if not mt.initialize():\n",
    "    print(\"initialize() failed, error code =\", mt.last_error())\n",
    "    quit()\n",
    "\n",
    "account=52159692\n",
    "pw = 'D!1a8p2ON$mwQR'\n",
    "\n",
    "authorized = mt.login(account, pw)"
   ]
  },
  {
   "cell_type": "code",
   "execution_count": 5,
   "metadata": {},
   "outputs": [],
   "source": [
    "# Display all rows\n",
    "pd.set_option('display.max_rows', None)\n",
    "\n",
    "# Display all columns\n",
    "pd.set_option('display.max_columns', None)\n",
    "\n",
    "# Prevent column width truncation\n",
    "pd.set_option('display.max_colwidth', None)\n",
    "\n",
    "# Display full content without wrapping\n",
    "pd.set_option('display.expand_frame_repr', False)"
   ]
  },
  {
   "cell_type": "code",
   "execution_count": 6,
   "metadata": {},
   "outputs": [],
   "source": [
    "df_test = make_dataframe_from_server_for_training(timeframe=mt.TIMEFRAME_M5, start_pos=0, end_pos=300, columns_order=COLUMNS_ORDER)"
   ]
  },
  {
   "cell_type": "code",
   "execution_count": 7,
   "metadata": {},
   "outputs": [],
   "source": [
    "df_test.to_csv('dataframe_for_training.csv')"
   ]
  },
  {
   "cell_type": "code",
   "execution_count": 8,
   "metadata": {},
   "outputs": [
    {
     "data": {
      "text/html": [
       "<div>\n",
       "<style scoped>\n",
       "    .dataframe tbody tr th:only-of-type {\n",
       "        vertical-align: middle;\n",
       "    }\n",
       "\n",
       "    .dataframe tbody tr th {\n",
       "        vertical-align: top;\n",
       "    }\n",
       "\n",
       "    .dataframe thead th {\n",
       "        text-align: right;\n",
       "    }\n",
       "</style>\n",
       "<table border=\"1\" class=\"dataframe\">\n",
       "  <thead>\n",
       "    <tr style=\"text-align: right;\">\n",
       "      <th></th>\n",
       "      <th>open</th>\n",
       "      <th>high</th>\n",
       "      <th>low</th>\n",
       "      <th>close</th>\n",
       "      <th>volume</th>\n",
       "      <th>ADX</th>\n",
       "      <th>ADL</th>\n",
       "      <th>ATR_14</th>\n",
       "      <th>RSI</th>\n",
       "      <th>MACD</th>\n",
       "      <th>MACD_signal</th>\n",
       "      <th>MACD_hist</th>\n",
       "      <th>open_audusd</th>\n",
       "      <th>high_audusd</th>\n",
       "      <th>low_audusd</th>\n",
       "      <th>close_audusd</th>\n",
       "      <th>volume_audusd</th>\n",
       "      <th>open_brentusd</th>\n",
       "      <th>high_brentusd</th>\n",
       "      <th>low_brentusd</th>\n",
       "      <th>close_brentusd</th>\n",
       "      <th>volume_brentusd</th>\n",
       "      <th>open_cadusd</th>\n",
       "      <th>high_cadusd</th>\n",
       "      <th>low_cadusd</th>\n",
       "      <th>close_cadusd</th>\n",
       "      <th>volume_cadusd</th>\n",
       "      <th>open_jpyusd</th>\n",
       "      <th>high_jpyusd</th>\n",
       "      <th>low_jpyusd</th>\n",
       "      <th>close_jpyusd</th>\n",
       "      <th>volume_jpyusd</th>\n",
       "      <th>open_plus_5min</th>\n",
       "      <th>high_plus_5min</th>\n",
       "      <th>low_plus_5min</th>\n",
       "      <th>close_plus_5min</th>\n",
       "      <th>open_plus_10min</th>\n",
       "      <th>high_plus_10min</th>\n",
       "      <th>low_plus_10min</th>\n",
       "      <th>close_plus_10min</th>\n",
       "      <th>open_plus_15min</th>\n",
       "      <th>high_plus_15min</th>\n",
       "      <th>low_plus_15min</th>\n",
       "      <th>close_plus_15min</th>\n",
       "      <th>open_plus_20min</th>\n",
       "      <th>high_plus_20min</th>\n",
       "      <th>low_plus_20min</th>\n",
       "      <th>close_plus_20min</th>\n",
       "      <th>open_plus_25min</th>\n",
       "      <th>high_plus_25min</th>\n",
       "      <th>low_plus_25min</th>\n",
       "      <th>close_plus_25min</th>\n",
       "      <th>open_plus_30min</th>\n",
       "      <th>high_plus_30min</th>\n",
       "      <th>low_plus_30min</th>\n",
       "      <th>close_plus_30min</th>\n",
       "      <th>open_plus_35min</th>\n",
       "      <th>high_plus_35min</th>\n",
       "      <th>low_plus_35min</th>\n",
       "      <th>close_plus_35min</th>\n",
       "      <th>open_plus_40min</th>\n",
       "      <th>high_plus_40min</th>\n",
       "      <th>low_plus_40min</th>\n",
       "      <th>close_plus_40min</th>\n",
       "    </tr>\n",
       "    <tr>\n",
       "      <th>time</th>\n",
       "      <th></th>\n",
       "      <th></th>\n",
       "      <th></th>\n",
       "      <th></th>\n",
       "      <th></th>\n",
       "      <th></th>\n",
       "      <th></th>\n",
       "      <th></th>\n",
       "      <th></th>\n",
       "      <th></th>\n",
       "      <th></th>\n",
       "      <th></th>\n",
       "      <th></th>\n",
       "      <th></th>\n",
       "      <th></th>\n",
       "      <th></th>\n",
       "      <th></th>\n",
       "      <th></th>\n",
       "      <th></th>\n",
       "      <th></th>\n",
       "      <th></th>\n",
       "      <th></th>\n",
       "      <th></th>\n",
       "      <th></th>\n",
       "      <th></th>\n",
       "      <th></th>\n",
       "      <th></th>\n",
       "      <th></th>\n",
       "      <th></th>\n",
       "      <th></th>\n",
       "      <th></th>\n",
       "      <th></th>\n",
       "      <th></th>\n",
       "      <th></th>\n",
       "      <th></th>\n",
       "      <th></th>\n",
       "      <th></th>\n",
       "      <th></th>\n",
       "      <th></th>\n",
       "      <th></th>\n",
       "      <th></th>\n",
       "      <th></th>\n",
       "      <th></th>\n",
       "      <th></th>\n",
       "      <th></th>\n",
       "      <th></th>\n",
       "      <th></th>\n",
       "      <th></th>\n",
       "      <th></th>\n",
       "      <th></th>\n",
       "      <th></th>\n",
       "      <th></th>\n",
       "      <th></th>\n",
       "      <th></th>\n",
       "      <th></th>\n",
       "      <th></th>\n",
       "      <th></th>\n",
       "      <th></th>\n",
       "      <th></th>\n",
       "      <th></th>\n",
       "      <th></th>\n",
       "      <th></th>\n",
       "      <th></th>\n",
       "      <th></th>\n",
       "    </tr>\n",
       "  </thead>\n",
       "  <tbody>\n",
       "    <tr>\n",
       "      <th>2025-06-13 03:35:00</th>\n",
       "      <td>1.15636</td>\n",
       "      <td>1.15645</td>\n",
       "      <td>1.15477</td>\n",
       "      <td>1.15481</td>\n",
       "      <td>843</td>\n",
       "      <td>51.072761</td>\n",
       "      <td>-2324.569542</td>\n",
       "      <td>0.001129</td>\n",
       "      <td>34.327601</td>\n",
       "      <td>-0.001123</td>\n",
       "      <td>-0.000289</td>\n",
       "      <td>-0.000834</td>\n",
       "      <td>0.64864</td>\n",
       "      <td>0.64874</td>\n",
       "      <td>0.64685</td>\n",
       "      <td>0.64692</td>\n",
       "      <td>695</td>\n",
       "      <td>72.35</td>\n",
       "      <td>72.43</td>\n",
       "      <td>72.05</td>\n",
       "      <td>72.18</td>\n",
       "      <td>420</td>\n",
       "      <td>1.36168</td>\n",
       "      <td>1.36279</td>\n",
       "      <td>1.36162</td>\n",
       "      <td>1.36279</td>\n",
       "      <td>454</td>\n",
       "      <td>142.945</td>\n",
       "      <td>142.952</td>\n",
       "      <td>142.793</td>\n",
       "      <td>142.853</td>\n",
       "      <td>925</td>\n",
       "      <td>1.15483</td>\n",
       "      <td>1.15509</td>\n",
       "      <td>1.15396</td>\n",
       "      <td>1.15461</td>\n",
       "      <td>1.15459</td>\n",
       "      <td>1.15595</td>\n",
       "      <td>1.15425</td>\n",
       "      <td>1.15559</td>\n",
       "      <td>1.15559</td>\n",
       "      <td>1.15626</td>\n",
       "      <td>1.15485</td>\n",
       "      <td>1.15625</td>\n",
       "      <td>1.15625</td>\n",
       "      <td>1.15625</td>\n",
       "      <td>1.15505</td>\n",
       "      <td>1.15590</td>\n",
       "      <td>1.15590</td>\n",
       "      <td>1.15602</td>\n",
       "      <td>1.15424</td>\n",
       "      <td>1.15425</td>\n",
       "      <td>1.15423</td>\n",
       "      <td>1.15546</td>\n",
       "      <td>1.15423</td>\n",
       "      <td>1.15510</td>\n",
       "      <td>1.15510</td>\n",
       "      <td>1.15511</td>\n",
       "      <td>1.15413</td>\n",
       "      <td>1.15466</td>\n",
       "      <td>1.15465</td>\n",
       "      <td>1.15485</td>\n",
       "      <td>1.15396</td>\n",
       "      <td>1.15407</td>\n",
       "    </tr>\n",
       "    <tr>\n",
       "      <th>2025-06-13 03:40:00</th>\n",
       "      <td>1.15483</td>\n",
       "      <td>1.15509</td>\n",
       "      <td>1.15396</td>\n",
       "      <td>1.15461</td>\n",
       "      <td>670</td>\n",
       "      <td>48.780423</td>\n",
       "      <td>-2223.773082</td>\n",
       "      <td>0.001129</td>\n",
       "      <td>33.613531</td>\n",
       "      <td>-0.001378</td>\n",
       "      <td>-0.000507</td>\n",
       "      <td>-0.000871</td>\n",
       "      <td>0.64696</td>\n",
       "      <td>0.64759</td>\n",
       "      <td>0.64696</td>\n",
       "      <td>0.64733</td>\n",
       "      <td>580</td>\n",
       "      <td>72.18</td>\n",
       "      <td>72.38</td>\n",
       "      <td>72.10</td>\n",
       "      <td>72.31</td>\n",
       "      <td>390</td>\n",
       "      <td>1.36278</td>\n",
       "      <td>1.36345</td>\n",
       "      <td>1.36248</td>\n",
       "      <td>1.36327</td>\n",
       "      <td>407</td>\n",
       "      <td>142.853</td>\n",
       "      <td>143.045</td>\n",
       "      <td>142.853</td>\n",
       "      <td>142.965</td>\n",
       "      <td>773</td>\n",
       "      <td>1.15459</td>\n",
       "      <td>1.15595</td>\n",
       "      <td>1.15425</td>\n",
       "      <td>1.15559</td>\n",
       "      <td>1.15559</td>\n",
       "      <td>1.15626</td>\n",
       "      <td>1.15485</td>\n",
       "      <td>1.15625</td>\n",
       "      <td>1.15625</td>\n",
       "      <td>1.15625</td>\n",
       "      <td>1.15505</td>\n",
       "      <td>1.15590</td>\n",
       "      <td>1.15590</td>\n",
       "      <td>1.15602</td>\n",
       "      <td>1.15424</td>\n",
       "      <td>1.15425</td>\n",
       "      <td>1.15423</td>\n",
       "      <td>1.15546</td>\n",
       "      <td>1.15423</td>\n",
       "      <td>1.15510</td>\n",
       "      <td>1.15510</td>\n",
       "      <td>1.15511</td>\n",
       "      <td>1.15413</td>\n",
       "      <td>1.15466</td>\n",
       "      <td>1.15465</td>\n",
       "      <td>1.15485</td>\n",
       "      <td>1.15396</td>\n",
       "      <td>1.15407</td>\n",
       "      <td>1.15407</td>\n",
       "      <td>1.15452</td>\n",
       "      <td>1.15390</td>\n",
       "      <td>1.15428</td>\n",
       "    </tr>\n",
       "    <tr>\n",
       "      <th>2025-06-13 03:45:00</th>\n",
       "      <td>1.15459</td>\n",
       "      <td>1.15595</td>\n",
       "      <td>1.15425</td>\n",
       "      <td>1.15559</td>\n",
       "      <td>610</td>\n",
       "      <td>45.439461</td>\n",
       "      <td>-1872.126023</td>\n",
       "      <td>0.001177</td>\n",
       "      <td>40.256643</td>\n",
       "      <td>-0.001182</td>\n",
       "      <td>-0.000642</td>\n",
       "      <td>-0.000540</td>\n",
       "      <td>0.64731</td>\n",
       "      <td>0.64826</td>\n",
       "      <td>0.64728</td>\n",
       "      <td>0.64795</td>\n",
       "      <td>621</td>\n",
       "      <td>72.31</td>\n",
       "      <td>72.89</td>\n",
       "      <td>72.30</td>\n",
       "      <td>72.88</td>\n",
       "      <td>456</td>\n",
       "      <td>1.36330</td>\n",
       "      <td>1.36345</td>\n",
       "      <td>1.36228</td>\n",
       "      <td>1.36252</td>\n",
       "      <td>478</td>\n",
       "      <td>142.971</td>\n",
       "      <td>143.190</td>\n",
       "      <td>142.921</td>\n",
       "      <td>143.152</td>\n",
       "      <td>761</td>\n",
       "      <td>1.15559</td>\n",
       "      <td>1.15626</td>\n",
       "      <td>1.15485</td>\n",
       "      <td>1.15625</td>\n",
       "      <td>1.15625</td>\n",
       "      <td>1.15625</td>\n",
       "      <td>1.15505</td>\n",
       "      <td>1.15590</td>\n",
       "      <td>1.15590</td>\n",
       "      <td>1.15602</td>\n",
       "      <td>1.15424</td>\n",
       "      <td>1.15425</td>\n",
       "      <td>1.15423</td>\n",
       "      <td>1.15546</td>\n",
       "      <td>1.15423</td>\n",
       "      <td>1.15510</td>\n",
       "      <td>1.15510</td>\n",
       "      <td>1.15511</td>\n",
       "      <td>1.15413</td>\n",
       "      <td>1.15466</td>\n",
       "      <td>1.15465</td>\n",
       "      <td>1.15485</td>\n",
       "      <td>1.15396</td>\n",
       "      <td>1.15407</td>\n",
       "      <td>1.15407</td>\n",
       "      <td>1.15452</td>\n",
       "      <td>1.15390</td>\n",
       "      <td>1.15428</td>\n",
       "      <td>1.15428</td>\n",
       "      <td>1.15500</td>\n",
       "      <td>1.15400</td>\n",
       "      <td>1.15499</td>\n",
       "    </tr>\n",
       "    <tr>\n",
       "      <th>2025-06-13 03:50:00</th>\n",
       "      <td>1.15559</td>\n",
       "      <td>1.15626</td>\n",
       "      <td>1.15485</td>\n",
       "      <td>1.15625</td>\n",
       "      <td>627</td>\n",
       "      <td>43.510812</td>\n",
       "      <td>-1254.019640</td>\n",
       "      <td>0.001196</td>\n",
       "      <td>44.348104</td>\n",
       "      <td>-0.000847</td>\n",
       "      <td>-0.000683</td>\n",
       "      <td>-0.000164</td>\n",
       "      <td>0.64795</td>\n",
       "      <td>0.64800</td>\n",
       "      <td>0.64743</td>\n",
       "      <td>0.64770</td>\n",
       "      <td>555</td>\n",
       "      <td>72.87</td>\n",
       "      <td>73.80</td>\n",
       "      <td>72.79</td>\n",
       "      <td>73.72</td>\n",
       "      <td>750</td>\n",
       "      <td>1.36252</td>\n",
       "      <td>1.36319</td>\n",
       "      <td>1.36247</td>\n",
       "      <td>1.36296</td>\n",
       "      <td>553</td>\n",
       "      <td>143.156</td>\n",
       "      <td>143.175</td>\n",
       "      <td>142.923</td>\n",
       "      <td>142.991</td>\n",
       "      <td>892</td>\n",
       "      <td>1.15625</td>\n",
       "      <td>1.15625</td>\n",
       "      <td>1.15505</td>\n",
       "      <td>1.15590</td>\n",
       "      <td>1.15590</td>\n",
       "      <td>1.15602</td>\n",
       "      <td>1.15424</td>\n",
       "      <td>1.15425</td>\n",
       "      <td>1.15423</td>\n",
       "      <td>1.15546</td>\n",
       "      <td>1.15423</td>\n",
       "      <td>1.15510</td>\n",
       "      <td>1.15510</td>\n",
       "      <td>1.15511</td>\n",
       "      <td>1.15413</td>\n",
       "      <td>1.15466</td>\n",
       "      <td>1.15465</td>\n",
       "      <td>1.15485</td>\n",
       "      <td>1.15396</td>\n",
       "      <td>1.15407</td>\n",
       "      <td>1.15407</td>\n",
       "      <td>1.15452</td>\n",
       "      <td>1.15390</td>\n",
       "      <td>1.15428</td>\n",
       "      <td>1.15428</td>\n",
       "      <td>1.15500</td>\n",
       "      <td>1.15400</td>\n",
       "      <td>1.15499</td>\n",
       "      <td>1.15499</td>\n",
       "      <td>1.15516</td>\n",
       "      <td>1.15450</td>\n",
       "      <td>1.15460</td>\n",
       "    </tr>\n",
       "    <tr>\n",
       "      <th>2025-06-13 03:55:00</th>\n",
       "      <td>1.15625</td>\n",
       "      <td>1.15625</td>\n",
       "      <td>1.15505</td>\n",
       "      <td>1.15590</td>\n",
       "      <td>537</td>\n",
       "      <td>41.740928</td>\n",
       "      <td>-1030.269640</td>\n",
       "      <td>0.001196</td>\n",
       "      <td>42.658043</td>\n",
       "      <td>-0.000711</td>\n",
       "      <td>-0.000688</td>\n",
       "      <td>-0.000022</td>\n",
       "      <td>0.64770</td>\n",
       "      <td>0.64802</td>\n",
       "      <td>0.64724</td>\n",
       "      <td>0.64772</td>\n",
       "      <td>576</td>\n",
       "      <td>73.72</td>\n",
       "      <td>74.37</td>\n",
       "      <td>73.47</td>\n",
       "      <td>73.56</td>\n",
       "      <td>986</td>\n",
       "      <td>1.36293</td>\n",
       "      <td>1.36332</td>\n",
       "      <td>1.36259</td>\n",
       "      <td>1.36271</td>\n",
       "      <td>463</td>\n",
       "      <td>142.987</td>\n",
       "      <td>143.089</td>\n",
       "      <td>142.965</td>\n",
       "      <td>143.043</td>\n",
       "      <td>747</td>\n",
       "      <td>1.15590</td>\n",
       "      <td>1.15602</td>\n",
       "      <td>1.15424</td>\n",
       "      <td>1.15425</td>\n",
       "      <td>1.15423</td>\n",
       "      <td>1.15546</td>\n",
       "      <td>1.15423</td>\n",
       "      <td>1.15510</td>\n",
       "      <td>1.15510</td>\n",
       "      <td>1.15511</td>\n",
       "      <td>1.15413</td>\n",
       "      <td>1.15466</td>\n",
       "      <td>1.15465</td>\n",
       "      <td>1.15485</td>\n",
       "      <td>1.15396</td>\n",
       "      <td>1.15407</td>\n",
       "      <td>1.15407</td>\n",
       "      <td>1.15452</td>\n",
       "      <td>1.15390</td>\n",
       "      <td>1.15428</td>\n",
       "      <td>1.15428</td>\n",
       "      <td>1.15500</td>\n",
       "      <td>1.15400</td>\n",
       "      <td>1.15499</td>\n",
       "      <td>1.15499</td>\n",
       "      <td>1.15516</td>\n",
       "      <td>1.15450</td>\n",
       "      <td>1.15460</td>\n",
       "      <td>1.15460</td>\n",
       "      <td>1.15462</td>\n",
       "      <td>1.15373</td>\n",
       "      <td>1.15425</td>\n",
       "    </tr>\n",
       "  </tbody>\n",
       "</table>\n",
       "</div>"
      ],
      "text/plain": [
       "                        open     high      low    close  volume        ADX          ADL    ATR_14        RSI      MACD  MACD_signal  MACD_hist  open_audusd  high_audusd  low_audusd  close_audusd  volume_audusd  open_brentusd  high_brentusd  low_brentusd  close_brentusd  volume_brentusd  open_cadusd  high_cadusd  low_cadusd  close_cadusd  volume_cadusd  open_jpyusd  high_jpyusd  low_jpyusd  close_jpyusd  volume_jpyusd  open_plus_5min  high_plus_5min  low_plus_5min  close_plus_5min  open_plus_10min  high_plus_10min  low_plus_10min  close_plus_10min  open_plus_15min  high_plus_15min  low_plus_15min  close_plus_15min  open_plus_20min  high_plus_20min  low_plus_20min  close_plus_20min  open_plus_25min  high_plus_25min  low_plus_25min  close_plus_25min  open_plus_30min  high_plus_30min  low_plus_30min  close_plus_30min  open_plus_35min  high_plus_35min  low_plus_35min  close_plus_35min  open_plus_40min  high_plus_40min  low_plus_40min  close_plus_40min\n",
       "time                                                                                                                                                                                                                                                                                                                                                                                                                                                                                                                                                                                                                                                                                                                                                                                                                                                                                                                                                                                            \n",
       "2025-06-13 03:35:00  1.15636  1.15645  1.15477  1.15481     843  51.072761 -2324.569542  0.001129  34.327601 -0.001123    -0.000289  -0.000834      0.64864      0.64874     0.64685       0.64692            695          72.35          72.43         72.05           72.18              420      1.36168      1.36279     1.36162       1.36279            454      142.945      142.952     142.793       142.853            925         1.15483         1.15509        1.15396          1.15461          1.15459          1.15595         1.15425           1.15559          1.15559          1.15626         1.15485           1.15625          1.15625          1.15625         1.15505           1.15590          1.15590          1.15602         1.15424           1.15425          1.15423          1.15546         1.15423           1.15510          1.15510          1.15511         1.15413           1.15466          1.15465          1.15485         1.15396           1.15407\n",
       "2025-06-13 03:40:00  1.15483  1.15509  1.15396  1.15461     670  48.780423 -2223.773082  0.001129  33.613531 -0.001378    -0.000507  -0.000871      0.64696      0.64759     0.64696       0.64733            580          72.18          72.38         72.10           72.31              390      1.36278      1.36345     1.36248       1.36327            407      142.853      143.045     142.853       142.965            773         1.15459         1.15595        1.15425          1.15559          1.15559          1.15626         1.15485           1.15625          1.15625          1.15625         1.15505           1.15590          1.15590          1.15602         1.15424           1.15425          1.15423          1.15546         1.15423           1.15510          1.15510          1.15511         1.15413           1.15466          1.15465          1.15485         1.15396           1.15407          1.15407          1.15452         1.15390           1.15428\n",
       "2025-06-13 03:45:00  1.15459  1.15595  1.15425  1.15559     610  45.439461 -1872.126023  0.001177  40.256643 -0.001182    -0.000642  -0.000540      0.64731      0.64826     0.64728       0.64795            621          72.31          72.89         72.30           72.88              456      1.36330      1.36345     1.36228       1.36252            478      142.971      143.190     142.921       143.152            761         1.15559         1.15626        1.15485          1.15625          1.15625          1.15625         1.15505           1.15590          1.15590          1.15602         1.15424           1.15425          1.15423          1.15546         1.15423           1.15510          1.15510          1.15511         1.15413           1.15466          1.15465          1.15485         1.15396           1.15407          1.15407          1.15452         1.15390           1.15428          1.15428          1.15500         1.15400           1.15499\n",
       "2025-06-13 03:50:00  1.15559  1.15626  1.15485  1.15625     627  43.510812 -1254.019640  0.001196  44.348104 -0.000847    -0.000683  -0.000164      0.64795      0.64800     0.64743       0.64770            555          72.87          73.80         72.79           73.72              750      1.36252      1.36319     1.36247       1.36296            553      143.156      143.175     142.923       142.991            892         1.15625         1.15625        1.15505          1.15590          1.15590          1.15602         1.15424           1.15425          1.15423          1.15546         1.15423           1.15510          1.15510          1.15511         1.15413           1.15466          1.15465          1.15485         1.15396           1.15407          1.15407          1.15452         1.15390           1.15428          1.15428          1.15500         1.15400           1.15499          1.15499          1.15516         1.15450           1.15460\n",
       "2025-06-13 03:55:00  1.15625  1.15625  1.15505  1.15590     537  41.740928 -1030.269640  0.001196  42.658043 -0.000711    -0.000688  -0.000022      0.64770      0.64802     0.64724       0.64772            576          73.72          74.37         73.47           73.56              986      1.36293      1.36332     1.36259       1.36271            463      142.987      143.089     142.965       143.043            747         1.15590         1.15602        1.15424          1.15425          1.15423          1.15546         1.15423           1.15510          1.15510          1.15511         1.15413           1.15466          1.15465          1.15485         1.15396           1.15407          1.15407          1.15452         1.15390           1.15428          1.15428          1.15500         1.15400           1.15499          1.15499          1.15516         1.15450           1.15460          1.15460          1.15462         1.15373           1.15425"
      ]
     },
     "execution_count": 8,
     "metadata": {},
     "output_type": "execute_result"
    }
   ],
   "source": [
    "df_test.head()"
   ]
  },
  {
   "cell_type": "code",
   "execution_count": null,
   "metadata": {},
   "outputs": [],
   "source": []
  },
  {
   "cell_type": "code",
   "execution_count": 9,
   "metadata": {},
   "outputs": [],
   "source": [
    "def generate_automatic_features_for_model_training(df_raw:pd.DataFrame, cols_order:list, column_for_y:str) -> tuple[pd.DataFrame, list]:\n",
    "    columns_order = cols_order.copy()\n",
    "    df_data = df_raw.loc[:, columns_order]\n",
    "    df_data[column_for_y] = df_test[column_for_y]\n",
    "    df_data.reset_index(inplace=True)\n",
    "    df_data.dropna(axis=1, inplace=True)\n",
    "    df_data['id'] = df_data.index\n",
    "    columns_order.append('id')\n",
    "    columns_order.append('time')\n",
    "\n",
    "    extracted_features = extract_features(\n",
    "        df_data.loc[:, columns_order],\n",
    "        column_id=\"id\",  \n",
    "        column_sort=\"time\", \n",
    "        default_fc_parameters=EfficientFCParameters(),          \n",
    "        impute_function=impute, \n",
    "    )\n",
    "\n",
    "    y = df_data[column_for_y] \n",
    "\n",
    "    features_filtered = select_features(extracted_features, y)\n",
    "\n",
    "    feature_columns = features_filtered.columns.to_list()\n",
    "\n",
    "    print(f\"Original number of features: {len(extracted_features.columns)}\")\n",
    "    print(f\"Number of features after selection: {len(features_filtered.columns)}\")\n",
    "    print(\"Some selected features:\")\n",
    "    print(features_filtered.head())\n",
    "\n",
    "    return features_filtered, feature_columns"
   ]
  },
  {
   "cell_type": "code",
   "execution_count": null,
   "metadata": {},
   "outputs": [
    {
     "name": "stderr",
     "output_type": "stream",
     "text": [
      "Feature Extraction: 100%|██████████| 30/30 [01:15<00:00,  2.50s/it]\n"
     ]
    }
   ],
   "source": [
    "features_filtered, feature_columns = generate_automatic_features_for_model_training(df_raw=df_test, cols_order=COLUMNS_ORDER, column_for_y='open_plus_40min')"
   ]
  },
  {
   "cell_type": "code",
   "execution_count": null,
   "metadata": {},
   "outputs": [],
   "source": [
    "def generate_automatic_features_for_model_test(df_raw:pd.DataFrame, cols_order:list, feature_columns:list) -> pd.DataFrame:\n",
    "\n",
    "    def select_columns(X, columns=feature_columns):\n",
    "        return X[columns]\n",
    "\n",
    "    columns_order = cols_order.copy()\n",
    "    df_data = df_raw.loc[:, columns_order]\n",
    "    df_data.reset_index(inplace=True)\n",
    "    df_data.dropna(axis=1, inplace=True)\n",
    "    df_data['id'] = df_data.index\n",
    "\n",
    "    if('id' not in columns_order):\n",
    "        columns_order.append('id')\n",
    "\n",
    "    if('time' not in columns_order):\n",
    "        columns_order.append('time')\n",
    "\n",
    "    extracted_features = extract_features(\n",
    "        df_data.loc[:, columns_order],\n",
    "        column_id=\"id\",  \n",
    "        column_sort=\"time\", \n",
    "        default_fc_parameters=EfficientFCParameters(),          \n",
    "        impute_function=impute, \n",
    "    )\n",
    "\n",
    "    pipeline = Pipeline([\n",
    "    ('imputer', FunctionTransformer(impute)),\n",
    "    ('selector', FunctionTransformer(select_columns))\n",
    "    ])\n",
    "\n",
    "    production_ready_features = pipeline.transform(extracted_features)\n",
    "\n",
    "    print(f\"Original number of features: {len(extracted_features.columns)}\")\n",
    "    print(f\"Number of features after selection: {len(production_ready_features.columns)}\")\n",
    "    print(\"Some selected features:\")\n",
    "    print(production_ready_features.head())\n",
    "\n",
    "    return production_ready_features.loc[:, feature_columns]"
   ]
  },
  {
   "cell_type": "code",
   "execution_count": null,
   "metadata": {},
   "outputs": [],
   "source": [
    "production_ready_features = generate_automatic_features_for_model_test(df_raw=df_test, cols_order=COLUMNS_ORDER, feature_columns=feature_columns)"
   ]
  },
  {
   "cell_type": "code",
   "execution_count": null,
   "metadata": {},
   "outputs": [],
   "source": [
    "production_ready_features.head()"
   ]
  },
  {
   "cell_type": "code",
   "execution_count": null,
   "metadata": {},
   "outputs": [],
   "source": [
    "production_ready_features.columns.to_list()"
   ]
  },
  {
   "cell_type": "code",
   "execution_count": null,
   "metadata": {},
   "outputs": [],
   "source": [
    "'close__maximum' in production_ready_features.columns.to_list()"
   ]
  },
  {
   "cell_type": "code",
   "execution_count": null,
   "metadata": {},
   "outputs": [],
   "source": [
    "features_filtered.loc[:, feature_columns].head()"
   ]
  },
  {
   "cell_type": "code",
   "execution_count": null,
   "metadata": {},
   "outputs": [],
   "source": [
    "df_combined = pd.merge(df_data, features_filtered, how=\"inner\", left_index=True, right_index=True)"
   ]
  },
  {
   "cell_type": "code",
   "execution_count": null,
   "metadata": {},
   "outputs": [],
   "source": [
    "df_combined.head()"
   ]
  },
  {
   "cell_type": "code",
   "execution_count": null,
   "metadata": {},
   "outputs": [],
   "source": [
    "len(df_combined.columns)"
   ]
  },
  {
   "cell_type": "code",
   "execution_count": null,
   "metadata": {},
   "outputs": [],
   "source": []
  },
  {
   "cell_type": "code",
   "execution_count": null,
   "metadata": {},
   "outputs": [],
   "source": [
    "\n",
    "\n",
    "# Create processing function\n",
    "\n",
    "# "
   ]
  },
  {
   "cell_type": "code",
   "execution_count": null,
   "metadata": {},
   "outputs": [],
   "source": []
  },
  {
   "cell_type": "code",
   "execution_count": null,
   "metadata": {},
   "outputs": [],
   "source": []
  },
  {
   "cell_type": "code",
   "execution_count": null,
   "metadata": {},
   "outputs": [],
   "source": [
    "production_ready_features.head()"
   ]
  },
  {
   "cell_type": "code",
   "execution_count": null,
   "metadata": {},
   "outputs": [],
   "source": [
    "from pandas.testing import assert_frame_equal\n"
   ]
  },
  {
   "cell_type": "code",
   "execution_count": null,
   "metadata": {},
   "outputs": [],
   "source": [
    "test_empty_dataframe = pd.DataFrame()"
   ]
  },
  {
   "cell_type": "code",
   "execution_count": null,
   "metadata": {},
   "outputs": [],
   "source": [
    "assert_frame_equal(production_ready_features, features_filtered, check_exact=True)"
   ]
  },
  {
   "cell_type": "code",
   "execution_count": null,
   "metadata": {},
   "outputs": [],
   "source": [
    "fig = plt.figure(figsize=(10, 15))"
   ]
  },
  {
   "cell_type": "code",
   "execution_count": null,
   "metadata": {},
   "outputs": [],
   "source": [
    "symbols = [\n",
    "    'AUDUSD',\n",
    "    'XBRUSD',\n",
    "    'USDJPY',\n",
    "    'CADUSD'\n",
    "]"
   ]
  },
  {
   "cell_type": "code",
   "execution_count": null,
   "metadata": {},
   "outputs": [],
   "source": [
    "TIMEFRAME_SMALL_MT = mt.TIMEFRAME_M5"
   ]
  },
  {
   "cell_type": "code",
   "execution_count": null,
   "metadata": {},
   "outputs": [],
   "source": [
    "df_for_corr = make_dataframe_line(timeframe=TIMEFRAME_SMALL_MT, start_pos=0, end_pos=500)"
   ]
  },
  {
   "cell_type": "code",
   "execution_count": null,
   "metadata": {},
   "outputs": [],
   "source": [
    "df_for_corr = df_for_corr.drop(['+DI', '-DI', 'ADX', 'ADL', 'ATR_14', 'RSI', 'MACD', 'MACD_signal', 'MACD_hist'], axis=1)"
   ]
  },
  {
   "cell_type": "code",
   "execution_count": null,
   "metadata": {},
   "outputs": [],
   "source": [
    "corr = df_for_corr.corr()"
   ]
  },
  {
   "cell_type": "code",
   "execution_count": null,
   "metadata": {},
   "outputs": [],
   "source": [
    "corr"
   ]
  },
  {
   "cell_type": "code",
   "execution_count": null,
   "metadata": {},
   "outputs": [],
   "source": [
    "sns.set_theme(rc={'figure.figsize':(20,14)})"
   ]
  },
  {
   "cell_type": "code",
   "execution_count": null,
   "metadata": {},
   "outputs": [],
   "source": [
    "sns.heatmap(corr,\n",
    "            xticklabels=corr.columns.values,\n",
    "            yticklabels=corr.columns.values,\n",
    "            annot=True)"
   ]
  },
  {
   "cell_type": "code",
   "execution_count": null,
   "metadata": {},
   "outputs": [],
   "source": []
  },
  {
   "cell_type": "code",
   "execution_count": null,
   "metadata": {},
   "outputs": [],
   "source": []
  },
  {
   "cell_type": "code",
   "execution_count": null,
   "metadata": {},
   "outputs": [],
   "source": []
  },
  {
   "cell_type": "code",
   "execution_count": null,
   "metadata": {},
   "outputs": [],
   "source": [
    "df_from_server = make_dataframe_line(timeframe=TIMEFRAME_SMALL_MT, start_pos=0, end_pos=92)"
   ]
  },
  {
   "cell_type": "code",
   "execution_count": null,
   "metadata": {},
   "outputs": [],
   "source": [
    "len(df_from_server)"
   ]
  },
  {
   "cell_type": "code",
   "execution_count": null,
   "metadata": {},
   "outputs": [],
   "source": [
    "BASE_DIR = 'hist_data/'\n",
    "TIME_SERIES_FOLDER = 'EURUSD/'\n",
    "BID_FOLDER = '5_min/Bid/'\n",
    "ASK_FOLDER = '5_min/Ask/'\n",
    "\n",
    "BASE_DIR_LSTM = 'machine_learning_models/lstm/eurusd/pickle_files'\n",
    "LSTM_MAX_VAL = BASE_DIR_LSTM + '/lstm_regressor_predict_max_values-2025-04-07.pkl'\n",
    "LSTM_MIN_VAL = BASE_DIR_LSTM + '/lstm_regressor_predict_min_values-2025-04-07.pkl'\n",
    "SCALER_X_MIN = BASE_DIR_LSTM + '/lstm_regressor_scaler_x_min.pkl'\n",
    "SCALER_X_MAX = BASE_DIR_LSTM + '/lstm_regressor_scaler_x_max.pkl'\n",
    "SCALER_Y_MIN = BASE_DIR_LSTM + '/lstm_regressor_scaler_y_min.pkl'\n",
    "SCALER_Y_MAX = BASE_DIR_LSTM + '/lstm_regressor_scaler_y_max.pkl'"
   ]
  },
  {
   "cell_type": "code",
   "execution_count": null,
   "metadata": {},
   "outputs": [],
   "source": [
    "len(df_from_server)"
   ]
  },
  {
   "cell_type": "code",
   "execution_count": null,
   "metadata": {},
   "outputs": [],
   "source": [
    "df_joined_train, df_joined_test, df_joined_val = make_single_df_from_bid_ask(\n",
    "    base_dir=BASE_DIR,\n",
    "    time_series_folder=TIME_SERIES_FOLDER\n",
    ")"
   ]
  },
  {
   "cell_type": "code",
   "execution_count": null,
   "metadata": {},
   "outputs": [],
   "source": [
    "print(len(df_joined_train), len(df_joined_test), len(df_joined_val))"
   ]
  },
  {
   "cell_type": "code",
   "execution_count": null,
   "metadata": {},
   "outputs": [],
   "source": [
    "columns_for_y = [\n",
    "        \"open_plus_5min\",\n",
    "        \"high_plus_5min\",\n",
    "        \"low_plus_5min\",\n",
    "        \"close_plus_5min\",\n",
    "        \"open_plus_10min\",    \n",
    "        \"high_plus_10min\",\n",
    "        \"low_plus_10min\",\n",
    "        \"close_plus_10min\",\n",
    "        \"open_plus_15min\",\n",
    "        \"high_plus_15min\",\n",
    "        \"low_plus_15min\",\n",
    "        \"close_plus_15min\",\n",
    "        \"open_plus_20min\",\n",
    "        \"high_plus_20min\",\n",
    "        \"low_plus_20min\",\n",
    "        \"close_plus_20min\",\n",
    "        \"open_plus_25min\",\n",
    "        \"high_plus_25min\",\n",
    "        \"low_plus_25min\",\n",
    "        \"close_plus_25min\",\n",
    "        \"open_plus_30min\",\n",
    "        \"high_plus_30min\",\n",
    "        \"low_plus_30min\",\n",
    "        \"close_plus_30min\",\n",
    "        \"open_plus_35min\",\n",
    "        \"high_plus_35min\",\n",
    "        \"low_plus_35min\",\n",
    "        \"close_plus_35min\",\n",
    "        \"open_plus_40min\",\n",
    "        \"high_plus_40min\",\n",
    "        \"low_plus_40min\",\n",
    "        \"close_plus_40min\"\n",
    "    ]"
   ]
  },
  {
   "cell_type": "code",
   "execution_count": null,
   "metadata": {},
   "outputs": [],
   "source": [
    "for col in columns_for_y:\n",
    "    predict_candle(df=df_joined_train, test_df=df_joined_test, validation_df=df_joined_val, base_dir=BASE_DIR_LSTM, column_for_y=col)"
   ]
  },
  {
   "cell_type": "code",
   "execution_count": null,
   "metadata": {},
   "outputs": [],
   "source": [
    "dataframe_actual = df_joined_val.tail(8)"
   ]
  },
  {
   "cell_type": "code",
   "execution_count": null,
   "metadata": {},
   "outputs": [],
   "source": [
    "len(df_joined_val)"
   ]
  },
  {
   "cell_type": "code",
   "execution_count": null,
   "metadata": {},
   "outputs": [],
   "source": [
    "dataframe_line = df_joined_val.iloc[4547:4608]"
   ]
  },
  {
   "cell_type": "code",
   "execution_count": null,
   "metadata": {},
   "outputs": [],
   "source": [
    "len(dataframe_line)"
   ]
  },
  {
   "cell_type": "code",
   "execution_count": null,
   "metadata": {},
   "outputs": [],
   "source": [
    "dataframe_predicted = collect_predictions_into_dataframe(dataframe_line=dataframe_line, base_dir_lstm=BASE_DIR_LSTM)"
   ]
  },
  {
   "cell_type": "code",
   "execution_count": null,
   "metadata": {},
   "outputs": [],
   "source": [
    "dataframe_predicted_from_server = collect_predictions_into_dataframe(dataframe_line=df_from_server, base_dir_lstm=BASE_DIR_LSTM)"
   ]
  },
  {
   "cell_type": "code",
   "execution_count": null,
   "metadata": {},
   "outputs": [],
   "source": [
    "dataframe_predicted_from_server"
   ]
  },
  {
   "cell_type": "code",
   "execution_count": null,
   "metadata": {},
   "outputs": [],
   "source": [
    "df_test = dataframe_actual[['open', 'high', 'low', 'close']].copy()"
   ]
  },
  {
   "cell_type": "code",
   "execution_count": null,
   "metadata": {},
   "outputs": [],
   "source": [
    "df_test.index = dataframe_predicted.index.to_list()"
   ]
  },
  {
   "cell_type": "code",
   "execution_count": null,
   "metadata": {},
   "outputs": [],
   "source": [
    "df_test"
   ]
  },
  {
   "cell_type": "code",
   "execution_count": null,
   "metadata": {},
   "outputs": [],
   "source": [
    "dataframe_predicted"
   ]
  },
  {
   "cell_type": "code",
   "execution_count": null,
   "metadata": {},
   "outputs": [],
   "source": [
    "df_result = df_test.subtract(dataframe_predicted, axis=1)"
   ]
  },
  {
   "cell_type": "code",
   "execution_count": null,
   "metadata": {},
   "outputs": [],
   "source": [
    "df_result.mean()"
   ]
  },
  {
   "cell_type": "code",
   "execution_count": null,
   "metadata": {},
   "outputs": [],
   "source": [
    "dataframe_predicted.add(0.041)"
   ]
  },
  {
   "cell_type": "code",
   "execution_count": null,
   "metadata": {},
   "outputs": [],
   "source": [
    "# predict_min_stats(df_joined_train, df_joined_test, df_joined_val, scaler_x_dir=SCALER_X_MIN, scaler_y_dir=SCALER_Y_MIN, model_dir=LSTM_MIN_VAL)"
   ]
  },
  {
   "cell_type": "code",
   "execution_count": null,
   "metadata": {},
   "outputs": [],
   "source": [
    "# predict_max_stats(df_joined_train, df_joined_test, df_joined_val, scaler_x_dir=SCALER_X_MAX, scaler_y_dir=SCALER_Y_MAX, model_dir=LSTM_MAX_VAL)"
   ]
  }
 ],
 "metadata": {
  "kernelspec": {
   "display_name": "myenv",
   "language": "python",
   "name": "python3"
  },
  "language_info": {
   "codemirror_mode": {
    "name": "ipython",
    "version": 3
   },
   "file_extension": ".py",
   "mimetype": "text/x-python",
   "name": "python",
   "nbconvert_exporter": "python",
   "pygments_lexer": "ipython3",
   "version": "3.13.2"
  }
 },
 "nbformat": 4,
 "nbformat_minor": 2
}

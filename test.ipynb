{
 "cells": [
  {
   "cell_type": "code",
   "execution_count": 1,
   "metadata": {},
   "outputs": [],
   "source": [
    "import pandas as pd\n",
    "from methods.make_single_df_from_bid_ask import make_single_df_from_bid_ask\n",
    "# from methods.make_5min_volume_from_1_min_volume import make_5min_volume_from_1min_volume\n",
    "from machine_learning_models.lstm.eurusd.lstm_predict_candle import predict_candle\n",
    "from machine_learning_models.lstm.eurusd.lstm_use_prediction import use_prediction\n",
    "# import torch"
   ]
  },
  {
   "cell_type": "code",
   "execution_count": 2,
   "metadata": {},
   "outputs": [],
   "source": [
    "# Display all rows\n",
    "pd.set_option('display.max_rows', None)\n",
    "\n",
    "# Display all columns\n",
    "pd.set_option('display.max_columns', None)\n",
    "\n",
    "# Prevent column width truncation\n",
    "pd.set_option('display.max_colwidth', None)\n",
    "\n",
    "# Display full content without wrapping\n",
    "pd.set_option('display.expand_frame_repr', False)"
   ]
  },
  {
   "cell_type": "code",
   "execution_count": 3,
   "metadata": {},
   "outputs": [],
   "source": [
    "BASE_DIR = 'hist_data/'\n",
    "TIME_SERIES_FOLDER = 'EURUSD/'\n",
    "BID_FOLDER = '5_min/Bid/'\n",
    "ASK_FOLDER = '5_min/Ask/'\n",
    "\n",
    "BASE_DIR_LSTM = 'machine_learning_models/lstm/eurusd/pickle_files'\n",
    "LSTM_MAX_VAL = BASE_DIR_LSTM + '/lstm_regressor_predict_max_values-2025-04-07.pkl'\n",
    "LSTM_MIN_VAL = BASE_DIR_LSTM + '/lstm_regressor_predict_min_values-2025-04-07.pkl'\n",
    "SCALER_X_MIN = BASE_DIR_LSTM + '/lstm_regressor_scaler_x_min.pkl'\n",
    "SCALER_X_MAX = BASE_DIR_LSTM + '/lstm_regressor_scaler_x_max.pkl'\n",
    "SCALER_Y_MIN = BASE_DIR_LSTM + '/lstm_regressor_scaler_y_min.pkl'\n",
    "SCALER_Y_MAX = BASE_DIR_LSTM + '/lstm_regressor_scaler_y_max.pkl'"
   ]
  },
  {
   "cell_type": "code",
   "execution_count": 4,
   "metadata": {},
   "outputs": [],
   "source": [
    "df_joined_train, df_joined_test, df_joined_val = make_single_df_from_bid_ask(\n",
    "    base_dir=BASE_DIR,\n",
    "    time_series_folder=TIME_SERIES_FOLDER\n",
    ")"
   ]
  },
  {
   "cell_type": "code",
   "execution_count": 5,
   "metadata": {},
   "outputs": [
    {
     "name": "stdout",
     "output_type": "stream",
     "text": [
      "13845 4615 4616\n"
     ]
    }
   ],
   "source": [
    "print(len(df_joined_train), len(df_joined_test), len(df_joined_val))"
   ]
  },
  {
   "cell_type": "code",
   "execution_count": 6,
   "metadata": {},
   "outputs": [],
   "source": [
    "columns_for_y = [\n",
    "        \"open_plus_5min\",\n",
    "        \"high_plus_5min\",\n",
    "        \"low_plus_5min\",\n",
    "        \"close_plus_5min\",\n",
    "        \"open_plus_10min\",    \n",
    "        \"high_plus_10min\",\n",
    "        \"low_plus_10min\",\n",
    "        \"close_plus_10min\",\n",
    "        \"open_plus_15min\",\n",
    "        \"high_plus_15min\",\n",
    "        \"low_plus_15min\",\n",
    "        \"close_plus_15min\",\n",
    "        \"open_plus_20min\",\n",
    "        \"high_plus_20min\",\n",
    "        \"low_plus_20min\",\n",
    "        \"close_plus_20min\",\n",
    "        \"open_plus_25min\",\n",
    "        \"high_plus_25min\",\n",
    "        \"low_plus_25min\",\n",
    "        \"close_plus_25min\",\n",
    "        \"open_plus_30min\",\n",
    "        \"high_plus_30min\",\n",
    "        \"low_plus_30min\",\n",
    "        \"close_plus_30min\",\n",
    "        \"open_plus_35min\",\n",
    "        \"high_plus_35min\",\n",
    "        \"low_plus_35min\",\n",
    "        \"close_plus_35min\",\n",
    "        \"open_plus_40min\",\n",
    "        \"high_plus_40min\",\n",
    "        \"low_plus_40min\",\n",
    "        \"close_plus_40min\"\n",
    "    ]"
   ]
  },
  {
   "cell_type": "code",
   "execution_count": 7,
   "metadata": {},
   "outputs": [
    {
     "name": "stdout",
     "output_type": "stream",
     "text": [
      "Deleting raw dataframes\n",
      "Raw dataframes deleted\n",
      "\n",
      "Final Train RMSE: 0.049488 | Test RMSE: 0.034936 | Validation RMSE: 0.035807\n",
      "Deleting raw dataframes\n",
      "Raw dataframes deleted\n",
      "\n",
      "Final Train RMSE: 0.039927 | Test RMSE: 0.028894 | Validation RMSE: 0.027839\n",
      "Deleting raw dataframes\n",
      "Raw dataframes deleted\n",
      "\n",
      "Final Train RMSE: 0.044047 | Test RMSE: 0.031436 | Validation RMSE: 0.031966\n",
      "Deleting raw dataframes\n",
      "Raw dataframes deleted\n",
      "\n",
      "Final Train RMSE: 0.043584 | Test RMSE: 0.031056 | Validation RMSE: 0.030860\n",
      "Deleting raw dataframes\n",
      "Raw dataframes deleted\n",
      "\n",
      "Final Train RMSE: 0.046145 | Test RMSE: 0.032269 | Validation RMSE: 0.032751\n",
      "Deleting raw dataframes\n",
      "Raw dataframes deleted\n",
      "\n",
      "Final Train RMSE: 0.045308 | Test RMSE: 0.032651 | Validation RMSE: 0.032339\n",
      "Deleting raw dataframes\n",
      "Raw dataframes deleted\n",
      "\n",
      "Final Train RMSE: 0.040922 | Test RMSE: 0.029414 | Validation RMSE: 0.029345\n",
      "Deleting raw dataframes\n",
      "Raw dataframes deleted\n",
      "\n",
      "Final Train RMSE: 0.040438 | Test RMSE: 0.029197 | Validation RMSE: 0.029095\n",
      "Deleting raw dataframes\n",
      "Raw dataframes deleted\n",
      "\n",
      "Final Train RMSE: 0.038635 | Test RMSE: 0.028464 | Validation RMSE: 0.026787\n",
      "Deleting raw dataframes\n",
      "Raw dataframes deleted\n",
      "\n",
      "Final Train RMSE: 0.047288 | Test RMSE: 0.033931 | Validation RMSE: 0.034058\n",
      "Deleting raw dataframes\n",
      "Raw dataframes deleted\n",
      "\n",
      "Final Train RMSE: 0.037956 | Test RMSE: 0.028299 | Validation RMSE: 0.027192\n",
      "Deleting raw dataframes\n",
      "Raw dataframes deleted\n",
      "\n",
      "Final Train RMSE: 0.043724 | Test RMSE: 0.030949 | Validation RMSE: 0.032058\n",
      "Deleting raw dataframes\n",
      "Raw dataframes deleted\n",
      "\n",
      "Final Train RMSE: 0.042102 | Test RMSE: 0.029516 | Validation RMSE: 0.028593\n",
      "Deleting raw dataframes\n",
      "Raw dataframes deleted\n",
      "\n",
      "Final Train RMSE: 0.045144 | Test RMSE: 0.032219 | Validation RMSE: 0.032182\n",
      "Deleting raw dataframes\n",
      "Raw dataframes deleted\n",
      "\n",
      "Final Train RMSE: 0.040880 | Test RMSE: 0.028963 | Validation RMSE: 0.029712\n",
      "Deleting raw dataframes\n",
      "Raw dataframes deleted\n",
      "\n",
      "Final Train RMSE: 0.044355 | Test RMSE: 0.031767 | Validation RMSE: 0.031943\n",
      "Deleting raw dataframes\n",
      "Raw dataframes deleted\n",
      "\n",
      "Final Train RMSE: 0.043883 | Test RMSE: 0.031505 | Validation RMSE: 0.031286\n",
      "Deleting raw dataframes\n",
      "Raw dataframes deleted\n",
      "\n",
      "Final Train RMSE: 0.045887 | Test RMSE: 0.033063 | Validation RMSE: 0.032980\n",
      "Deleting raw dataframes\n",
      "Raw dataframes deleted\n",
      "\n",
      "Final Train RMSE: 0.048241 | Test RMSE: 0.032454 | Validation RMSE: 0.034251\n",
      "Deleting raw dataframes\n",
      "Raw dataframes deleted\n",
      "\n",
      "Final Train RMSE: 0.042653 | Test RMSE: 0.030570 | Validation RMSE: 0.030197\n",
      "Deleting raw dataframes\n",
      "Raw dataframes deleted\n",
      "\n",
      "Final Train RMSE: 0.039629 | Test RMSE: 0.029602 | Validation RMSE: 0.027634\n",
      "Deleting raw dataframes\n",
      "Raw dataframes deleted\n",
      "\n",
      "Final Train RMSE: 0.045248 | Test RMSE: 0.032553 | Validation RMSE: 0.032068\n",
      "Deleting raw dataframes\n",
      "Raw dataframes deleted\n",
      "\n",
      "Final Train RMSE: 0.036757 | Test RMSE: 0.026460 | Validation RMSE: 0.026552\n",
      "Deleting raw dataframes\n",
      "Raw dataframes deleted\n",
      "\n",
      "Final Train RMSE: 0.044342 | Test RMSE: 0.030159 | Validation RMSE: 0.030451\n",
      "Deleting raw dataframes\n",
      "Raw dataframes deleted\n",
      "\n",
      "Final Train RMSE: 0.039530 | Test RMSE: 0.029542 | Validation RMSE: 0.027596\n",
      "Deleting raw dataframes\n",
      "Raw dataframes deleted\n",
      "\n",
      "Final Train RMSE: 0.039312 | Test RMSE: 0.029638 | Validation RMSE: 0.027505\n",
      "Deleting raw dataframes\n",
      "Raw dataframes deleted\n",
      "\n",
      "Final Train RMSE: 0.041707 | Test RMSE: 0.030074 | Validation RMSE: 0.030055\n",
      "Deleting raw dataframes\n",
      "Raw dataframes deleted\n",
      "\n",
      "Final Train RMSE: 0.040297 | Test RMSE: 0.028926 | Validation RMSE: 0.028979\n",
      "Deleting raw dataframes\n",
      "Raw dataframes deleted\n",
      "\n",
      "Final Train RMSE: 0.039213 | Test RMSE: 0.028484 | Validation RMSE: 0.027367\n",
      "Deleting raw dataframes\n",
      "Raw dataframes deleted\n",
      "\n",
      "Final Train RMSE: 0.040158 | Test RMSE: 0.029982 | Validation RMSE: 0.028167\n",
      "Deleting raw dataframes\n",
      "Raw dataframes deleted\n",
      "\n",
      "Final Train RMSE: 0.045348 | Test RMSE: 0.031901 | Validation RMSE: 0.033057\n",
      "Deleting raw dataframes\n",
      "Raw dataframes deleted\n",
      "\n",
      "Final Train RMSE: 0.043440 | Test RMSE: 0.030941 | Validation RMSE: 0.031345\n"
     ]
    }
   ],
   "source": [
    "for col in columns_for_y:\n",
    "    predict_candle(df=df_joined_train, test_df=df_joined_test, validation_df=df_joined_val, base_dir=BASE_DIR_LSTM, column_for_y=col)"
   ]
  },
  {
   "cell_type": "code",
   "execution_count": 53,
   "metadata": {},
   "outputs": [],
   "source": [
    "dataframe_actual = df_joined_val.tail(8)"
   ]
  },
  {
   "cell_type": "code",
   "execution_count": 54,
   "metadata": {},
   "outputs": [
    {
     "data": {
      "text/plain": [
       "4616"
      ]
     },
     "execution_count": 54,
     "metadata": {},
     "output_type": "execute_result"
    }
   ],
   "source": [
    "len(df_joined_val)"
   ]
  },
  {
   "cell_type": "code",
   "execution_count": 55,
   "metadata": {},
   "outputs": [],
   "source": [
    "dataframe_line = df_joined_val.iloc[4547:4608]"
   ]
  },
  {
   "cell_type": "code",
   "execution_count": 56,
   "metadata": {},
   "outputs": [
    {
     "data": {
      "text/plain": [
       "61"
      ]
     },
     "execution_count": 56,
     "metadata": {},
     "output_type": "execute_result"
    }
   ],
   "source": [
    "len(dataframe_line)"
   ]
  },
  {
   "cell_type": "code",
   "execution_count": 57,
   "metadata": {},
   "outputs": [],
   "source": [
    "open_values = pd.Series()\n",
    "high_values = pd.Series()\n",
    "low_values = pd.Series()\n",
    "close_values = pd.Series()"
   ]
  },
  {
   "cell_type": "code",
   "execution_count": 58,
   "metadata": {},
   "outputs": [
    {
     "name": "stderr",
     "output_type": "stream",
     "text": [
      "C:\\Users\\egoma\\AppData\\Local\\Temp\\ipykernel_8548\\654173068.py:11: FutureWarning: The behavior of array concatenation with empty entries is deprecated. In a future version, this will no longer exclude empty items when determining the result dtype. To retain the old behavior, exclude the empty entries before the concat operation.\n",
      "  open_values = pd.concat([open_values, pd.Series([predicted_value])], ignore_index=True)\n",
      "C:\\Users\\egoma\\AppData\\Local\\Temp\\ipykernel_8548\\654173068.py:13: FutureWarning: The behavior of array concatenation with empty entries is deprecated. In a future version, this will no longer exclude empty items when determining the result dtype. To retain the old behavior, exclude the empty entries before the concat operation.\n",
      "  high_values = pd.concat([high_values, pd.Series([predicted_value])], ignore_index=True)\n",
      "C:\\Users\\egoma\\AppData\\Local\\Temp\\ipykernel_8548\\654173068.py:15: FutureWarning: The behavior of array concatenation with empty entries is deprecated. In a future version, this will no longer exclude empty items when determining the result dtype. To retain the old behavior, exclude the empty entries before the concat operation.\n",
      "  low_values = pd.concat([low_values, pd.Series([predicted_value])], ignore_index=True)\n",
      "C:\\Users\\egoma\\AppData\\Local\\Temp\\ipykernel_8548\\654173068.py:17: FutureWarning: The behavior of array concatenation with empty entries is deprecated. In a future version, this will no longer exclude empty items when determining the result dtype. To retain the old behavior, exclude the empty entries before the concat operation.\n",
      "  close_values = pd.concat([close_values, pd.Series([predicted_value])], ignore_index=True)\n"
     ]
    }
   ],
   "source": [
    "\n",
    "for idx in range(len(columns_for_y)):\n",
    "    complete_df_dir = BASE_DIR_LSTM + f'/lstm_regressor_predict_candle_{columns_for_y[idx]}.pkl'\n",
    "    # print(idx % 4)\n",
    "    \n",
    "    predicted_value = use_prediction(dataframe_line=dataframe_line, \n",
    "                predict_scaler_x=BASE_DIR_LSTM + '/lstm_regressor_scaler_x.pkl', \n",
    "                predict_scaler_y=BASE_DIR_LSTM + f'/lstm_regressor_scaler_y_{columns_for_y[idx]}.pkl', \n",
    "                y_predictor=BASE_DIR_LSTM + f'/lstm_regressor_predict_candle_{columns_for_y[idx]}.pkl')\n",
    "    # print(predicted_value)\n",
    "    if(idx % 4 == 0):\n",
    "        open_values = pd.concat([open_values, pd.Series([predicted_value])], ignore_index=True)\n",
    "    elif(idx % 4 == 1):\n",
    "        high_values = pd.concat([high_values, pd.Series([predicted_value])], ignore_index=True)\n",
    "    elif(idx % 4 == 2):\n",
    "        low_values = pd.concat([low_values, pd.Series([predicted_value])], ignore_index=True)\n",
    "    elif(idx % 4 == 3):\n",
    "        close_values = pd.concat([close_values, pd.Series([predicted_value])], ignore_index=True)\n",
    "    "
   ]
  },
  {
   "cell_type": "code",
   "execution_count": 59,
   "metadata": {},
   "outputs": [
    {
     "data": {
      "text/plain": [
       "0    1.077253\n",
       "1    1.078431\n",
       "2    1.076858\n",
       "3    1.076862\n",
       "4    1.077729\n",
       "5    1.077542\n",
       "6    1.078294\n",
       "7    1.077232\n",
       "dtype: float32"
      ]
     },
     "execution_count": 59,
     "metadata": {},
     "output_type": "execute_result"
    }
   ],
   "source": [
    "close_values"
   ]
  },
  {
   "cell_type": "code",
   "execution_count": 60,
   "metadata": {},
   "outputs": [],
   "source": [
    "last_candle_time = dataframe_line.iloc[-1].name"
   ]
  },
  {
   "cell_type": "code",
   "execution_count": 61,
   "metadata": {},
   "outputs": [],
   "source": [
    "num_future_candles = 8\n",
    "future_times = pd.date_range(\n",
    "    start=last_candle_time + pd.Timedelta(minutes=5),\n",
    "    periods=num_future_candles,\n",
    "    freq='5min'\n",
    ").tolist()"
   ]
  },
  {
   "cell_type": "code",
   "execution_count": 62,
   "metadata": {},
   "outputs": [],
   "source": [
    "vals_dict = {\n",
    "    'open': open_values,\n",
    "    'high': high_values,\n",
    "    'low': low_values,\n",
    "    'close': close_values\n",
    "}"
   ]
  },
  {
   "cell_type": "code",
   "execution_count": 63,
   "metadata": {},
   "outputs": [],
   "source": [
    "predicted_values_dataframe = pd.DataFrame(vals_dict)"
   ]
  },
  {
   "cell_type": "code",
   "execution_count": 64,
   "metadata": {},
   "outputs": [],
   "source": [
    "predicted_values_dataframe.index = future_times"
   ]
  },
  {
   "cell_type": "code",
   "execution_count": 65,
   "metadata": {},
   "outputs": [
    {
     "data": {
      "text/html": [
       "<div>\n",
       "<style scoped>\n",
       "    .dataframe tbody tr th:only-of-type {\n",
       "        vertical-align: middle;\n",
       "    }\n",
       "\n",
       "    .dataframe tbody tr th {\n",
       "        vertical-align: top;\n",
       "    }\n",
       "\n",
       "    .dataframe thead th {\n",
       "        text-align: right;\n",
       "    }\n",
       "</style>\n",
       "<table border=\"1\" class=\"dataframe\">\n",
       "  <thead>\n",
       "    <tr style=\"text-align: right;\">\n",
       "      <th></th>\n",
       "      <th>open</th>\n",
       "      <th>high</th>\n",
       "      <th>low</th>\n",
       "      <th>close</th>\n",
       "    </tr>\n",
       "  </thead>\n",
       "  <tbody>\n",
       "    <tr>\n",
       "      <th>2025-04-24 20:40:00</th>\n",
       "      <td>1.075461</td>\n",
       "      <td>1.079114</td>\n",
       "      <td>1.076885</td>\n",
       "      <td>1.077253</td>\n",
       "    </tr>\n",
       "    <tr>\n",
       "      <th>2025-04-24 20:45:00</th>\n",
       "      <td>1.076338</td>\n",
       "      <td>1.076614</td>\n",
       "      <td>1.078241</td>\n",
       "      <td>1.078431</td>\n",
       "    </tr>\n",
       "    <tr>\n",
       "      <th>2025-04-24 20:50:00</th>\n",
       "      <td>1.079613</td>\n",
       "      <td>1.075754</td>\n",
       "      <td>1.079537</td>\n",
       "      <td>1.076858</td>\n",
       "    </tr>\n",
       "    <tr>\n",
       "      <th>2025-04-24 20:55:00</th>\n",
       "      <td>1.078560</td>\n",
       "      <td>1.076680</td>\n",
       "      <td>1.078243</td>\n",
       "      <td>1.076862</td>\n",
       "    </tr>\n",
       "    <tr>\n",
       "      <th>2025-04-24 21:00:00</th>\n",
       "      <td>1.077219</td>\n",
       "      <td>1.076328</td>\n",
       "      <td>1.076010</td>\n",
       "      <td>1.077729</td>\n",
       "    </tr>\n",
       "    <tr>\n",
       "      <th>2025-04-24 21:05:00</th>\n",
       "      <td>1.079271</td>\n",
       "      <td>1.076812</td>\n",
       "      <td>1.079775</td>\n",
       "      <td>1.077542</td>\n",
       "    </tr>\n",
       "    <tr>\n",
       "      <th>2025-04-24 21:10:00</th>\n",
       "      <td>1.079175</td>\n",
       "      <td>1.079330</td>\n",
       "      <td>1.077960</td>\n",
       "      <td>1.078294</td>\n",
       "    </tr>\n",
       "    <tr>\n",
       "      <th>2025-04-24 21:15:00</th>\n",
       "      <td>1.079205</td>\n",
       "      <td>1.078918</td>\n",
       "      <td>1.076460</td>\n",
       "      <td>1.077232</td>\n",
       "    </tr>\n",
       "  </tbody>\n",
       "</table>\n",
       "</div>"
      ],
      "text/plain": [
       "                         open      high       low     close\n",
       "2025-04-24 20:40:00  1.075461  1.079114  1.076885  1.077253\n",
       "2025-04-24 20:45:00  1.076338  1.076614  1.078241  1.078431\n",
       "2025-04-24 20:50:00  1.079613  1.075754  1.079537  1.076858\n",
       "2025-04-24 20:55:00  1.078560  1.076680  1.078243  1.076862\n",
       "2025-04-24 21:00:00  1.077219  1.076328  1.076010  1.077729\n",
       "2025-04-24 21:05:00  1.079271  1.076812  1.079775  1.077542\n",
       "2025-04-24 21:10:00  1.079175  1.079330  1.077960  1.078294\n",
       "2025-04-24 21:15:00  1.079205  1.078918  1.076460  1.077232"
      ]
     },
     "execution_count": 65,
     "metadata": {},
     "output_type": "execute_result"
    }
   ],
   "source": [
    "predicted_values_dataframe"
   ]
  },
  {
   "cell_type": "code",
   "execution_count": 69,
   "metadata": {},
   "outputs": [
    {
     "data": {
      "text/html": [
       "<div>\n",
       "<style scoped>\n",
       "    .dataframe tbody tr th:only-of-type {\n",
       "        vertical-align: middle;\n",
       "    }\n",
       "\n",
       "    .dataframe tbody tr th {\n",
       "        vertical-align: top;\n",
       "    }\n",
       "\n",
       "    .dataframe thead th {\n",
       "        text-align: right;\n",
       "    }\n",
       "</style>\n",
       "<table border=\"1\" class=\"dataframe\">\n",
       "  <thead>\n",
       "    <tr style=\"text-align: right;\">\n",
       "      <th></th>\n",
       "      <th>open</th>\n",
       "      <th>high</th>\n",
       "      <th>low</th>\n",
       "      <th>close</th>\n",
       "    </tr>\n",
       "    <tr>\n",
       "      <th>time</th>\n",
       "      <th></th>\n",
       "      <th></th>\n",
       "      <th></th>\n",
       "      <th></th>\n",
       "    </tr>\n",
       "  </thead>\n",
       "  <tbody>\n",
       "    <tr>\n",
       "      <th>2025-04-24 20:40:00</th>\n",
       "      <td>1.13949</td>\n",
       "      <td>1.13968</td>\n",
       "      <td>1.13943</td>\n",
       "      <td>1.13965</td>\n",
       "    </tr>\n",
       "    <tr>\n",
       "      <th>2025-04-24 20:45:00</th>\n",
       "      <td>1.13957</td>\n",
       "      <td>1.13983</td>\n",
       "      <td>1.13956</td>\n",
       "      <td>1.13982</td>\n",
       "    </tr>\n",
       "    <tr>\n",
       "      <th>2025-04-24 20:50:00</th>\n",
       "      <td>1.13982</td>\n",
       "      <td>1.13982</td>\n",
       "      <td>1.13932</td>\n",
       "      <td>1.13936</td>\n",
       "    </tr>\n",
       "    <tr>\n",
       "      <th>2025-04-24 20:55:00</th>\n",
       "      <td>1.13943</td>\n",
       "      <td>1.13944</td>\n",
       "      <td>1.13853</td>\n",
       "      <td>1.13854</td>\n",
       "    </tr>\n",
       "    <tr>\n",
       "      <th>2025-04-25 03:00:00</th>\n",
       "      <td>1.13484</td>\n",
       "      <td>1.13520</td>\n",
       "      <td>1.13484</td>\n",
       "      <td>1.13503</td>\n",
       "    </tr>\n",
       "    <tr>\n",
       "      <th>2025-04-25 03:05:00</th>\n",
       "      <td>1.13502</td>\n",
       "      <td>1.13507</td>\n",
       "      <td>1.13492</td>\n",
       "      <td>1.13502</td>\n",
       "    </tr>\n",
       "    <tr>\n",
       "      <th>2025-04-25 03:10:00</th>\n",
       "      <td>1.13501</td>\n",
       "      <td>1.13519</td>\n",
       "      <td>1.13484</td>\n",
       "      <td>1.13492</td>\n",
       "    </tr>\n",
       "    <tr>\n",
       "      <th>2025-04-25 03:15:00</th>\n",
       "      <td>1.13490</td>\n",
       "      <td>1.13520</td>\n",
       "      <td>1.13482</td>\n",
       "      <td>1.13510</td>\n",
       "    </tr>\n",
       "  </tbody>\n",
       "</table>\n",
       "</div>"
      ],
      "text/plain": [
       "                        open     high      low    close\n",
       "time                                                   \n",
       "2025-04-24 20:40:00  1.13949  1.13968  1.13943  1.13965\n",
       "2025-04-24 20:45:00  1.13957  1.13983  1.13956  1.13982\n",
       "2025-04-24 20:50:00  1.13982  1.13982  1.13932  1.13936\n",
       "2025-04-24 20:55:00  1.13943  1.13944  1.13853  1.13854\n",
       "2025-04-25 03:00:00  1.13484  1.13520  1.13484  1.13503\n",
       "2025-04-25 03:05:00  1.13502  1.13507  1.13492  1.13502\n",
       "2025-04-25 03:10:00  1.13501  1.13519  1.13484  1.13492\n",
       "2025-04-25 03:15:00  1.13490  1.13520  1.13482  1.13510"
      ]
     },
     "execution_count": 69,
     "metadata": {},
     "output_type": "execute_result"
    }
   ],
   "source": [
    "dataframe_actual[['open', 'high', 'low', 'close']]"
   ]
  },
  {
   "cell_type": "code",
   "execution_count": 66,
   "metadata": {},
   "outputs": [],
   "source": [
    "# predict_min_stats(df_joined_train, df_joined_test, df_joined_val, scaler_x_dir=SCALER_X_MIN, scaler_y_dir=SCALER_Y_MIN, model_dir=LSTM_MIN_VAL)"
   ]
  },
  {
   "cell_type": "code",
   "execution_count": 67,
   "metadata": {},
   "outputs": [],
   "source": [
    "# predict_max_stats(df_joined_train, df_joined_test, df_joined_val, scaler_x_dir=SCALER_X_MAX, scaler_y_dir=SCALER_Y_MAX, model_dir=LSTM_MAX_VAL)"
   ]
  }
 ],
 "metadata": {
  "kernelspec": {
   "display_name": "myenv",
   "language": "python",
   "name": "python3"
  },
  "language_info": {
   "codemirror_mode": {
    "name": "ipython",
    "version": 3
   },
   "file_extension": ".py",
   "mimetype": "text/x-python",
   "name": "python",
   "nbconvert_exporter": "python",
   "pygments_lexer": "ipython3",
   "version": "3.13.2"
  }
 },
 "nbformat": 4,
 "nbformat_minor": 2
}
